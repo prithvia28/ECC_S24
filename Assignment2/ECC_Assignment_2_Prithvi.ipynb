{
 "cells": [
  {
   "attachments": {},
   "cell_type": "markdown",
   "id": "3d4c0a90-8feb-4783-8c10-008b65f5a8b7",
   "metadata": {},
   "source": [
    "# Engineering Cloud Computing (ENGR-E 516)\n",
    "## Assignment 2"
   ]
  },
  {
   "attachments": {},
   "cell_type": "markdown",
   "id": "b664eeb4-c7c3-45d3-84cb-7b62bd38636a",
   "metadata": {},
   "source": [
    "### NY Parking Violations"
   ]
  },
  {
   "cell_type": "code",
   "execution_count": 1,
   "id": "fc3e28ff-8435-4e77-b352-7157e2b7d366",
   "metadata": {},
   "outputs": [],
   "source": [
    "# Checking if pyspark is installed properly and its path is right\n",
    "\n",
    "import pyspark\n",
    "import findspark\n",
    "\n",
    "findspark.init()"
   ]
  },
  {
   "cell_type": "code",
   "execution_count": 2,
   "id": "c0c4494f-bb75-46f7-a9fb-08ef2513a9bf",
   "metadata": {},
   "outputs": [
    {
     "name": "stderr",
     "output_type": "stream",
     "text": [
      "/usr/lib/python3/dist-packages/scipy/__init__.py:146: UserWarning: A NumPy version >=1.17.3 and <1.25.0 is required for this version of SciPy (detected version 1.26.4\n",
      "  warnings.warn(f\"A NumPy version >={np_minversion} and <{np_maxversion}\"\n"
     ]
    }
   ],
   "source": [
    "# Importing all the required libraries\n",
    "import scipy\n",
    "from scipy import spatial\n",
    "import numpy as np\n",
    "import pandas as pd\n",
    "import sys\n",
    "import pyspark \n",
    "from pyspark.sql import Row\n",
    "from pyspark.sql import functions as pysf\n",
    "from pyspark.sql.window import Window\n",
    "from pyspark.sql.functions import desc, when, count, col, sum, regexp_replace,expr, avg, first\n",
    "from pyspark.ml.clustering import KMeans\n",
    "from pyspark.ml.feature import VectorAssembler\n",
    "from pyspark.sql import SparkSession \n",
    "from pyspark.sql import functions as Func\n",
    "from pyspark.sql.types import IntegerType\n",
    "from pyspark import SparkContext, SparkConf\n",
    "from functools import reduce"
   ]
  },
  {
   "cell_type": "code",
   "execution_count": 3,
   "id": "cce2ecd0-f17c-41b3-a351-6677afc86305",
   "metadata": {},
   "outputs": [],
   "source": [
    "import warnings\n",
    "warnings.filterwarnings(\"ignore\")\n"
   ]
  },
  {
   "cell_type": "code",
   "execution_count": 4,
   "id": "644ade88-6d7b-4f34-b28d-2673abbc0d2b",
   "metadata": {},
   "outputs": [
    {
     "name": "stderr",
     "output_type": "stream",
     "text": [
      "Setting default log level to \"WARN\".\n",
      "To adjust logging level use sc.setLogLevel(newLevel). For SparkR, use setLogLevel(newLevel).\n",
      "24/04/13 00:38:59 WARN NativeCodeLoader: Unable to load native-hadoop library for your platform... using builtin-java classes where applicable\n"
     ]
    }
   ],
   "source": [
    "# Creating Spark Session with the name 'ECC Assignment 2'\n",
    "# Allocating for 4 cores\n",
    "spark = SparkSession.builder\\\n",
    "        .master(\"local[4]\")\\\n",
    "        .appName(\"ECC_Assignment_2\")\\\n",
    "        .config(\"spark.executor.memory\", \"4g\") \\\n",
    "        .getOrCreate()"
   ]
  },
  {
   "cell_type": "code",
   "execution_count": 5,
   "id": "d3009365-05fe-4615-beb8-5df0e7652de1",
   "metadata": {},
   "outputs": [
    {
     "name": "stderr",
     "output_type": "stream",
     "text": [
      "                                                                                \r"
     ]
    }
   ],
   "source": [
    "file_path='file:////home/hadoop/assignment2/nyc_data/nyc_data.csv'\n",
    "\n",
    "parking_df = spark.read.csv(file_path, header=True, inferSchema=True)"
   ]
  },
  {
   "cell_type": "code",
   "execution_count": 6,
   "id": "6b1e3d20-2e85-4424-99d8-b7fed4073ed6",
   "metadata": {
    "scrolled": true
   },
   "outputs": [
    {
     "name": "stderr",
     "output_type": "stream",
     "text": [
      "24/04/13 00:39:21 WARN SparkStringUtils: Truncated the string representation of a plan since it was too large. This behavior can be adjusted by setting 'spark.sql.debug.maxToStringFields'.\n"
     ]
    },
    {
     "data": {
      "text/plain": [
       "Row(summons_number=1159637337, plate_id='KZH2758', registration_state='NY', plate_type='PAS', issue_date=datetime.datetime(2023, 6, 9, 0, 0), violation_code=67, vehicle_body_type='VAN', vehicle_make='HONDA', issuing_agency='P', street_code1=0, street_code2=0, street_code3=0, vehicle_expiration_date=20250201.0, violation_location=43, violation_precinct=43, issuer_precinct=43, issuer_code=972773, issuer_command='0043', issuer_squad='0000', violation_time='0911A', time_first_observed=None, violation_county='BX', violation_in_front_of_or_opposite=None, house_number=None, street_name='I/O TAYLOR AVE', intersecting_street='GUERLAIN', date_first_observed=0, law_section=408, sub_division='E5', violation_legal_code=None, days_parking_in_effect='BBBBBBB', from_hours_in_effect='ALL', to_hours_in_effect='ALL', vehicle_color='BLUE', unregistered_vehicle=0, vehicle_year=2006, meter_number='-', feet_from_curb=0, violation_post_code=None, violation_description=None, no_standing_or_stopping_violation=None, hydrant_violation=None, double_parking_violation=None)"
      ]
     },
     "execution_count": 6,
     "metadata": {},
     "output_type": "execute_result"
    }
   ],
   "source": [
    "parking_df.head()"
   ]
  },
  {
   "cell_type": "code",
   "execution_count": 7,
   "id": "558c2685-69c3-4226-9870-41e94a490358",
   "metadata": {},
   "outputs": [
    {
     "name": "stderr",
     "output_type": "stream",
     "text": [
      "[Stage 3:===================================================>     (20 + 2) / 22]\r"
     ]
    },
    {
     "name": "stdout",
     "output_type": "stream",
     "text": [
      "Number of rows: 10717482\n",
      "Number of columns: 43\n"
     ]
    },
    {
     "name": "stderr",
     "output_type": "stream",
     "text": [
      "                                                                                \r"
     ]
    }
   ],
   "source": [
    "num_rows = parking_df.count()\n",
    "print(\"Number of rows:\", num_rows)\n",
    "\n",
    "num_cols = len(parking_df.columns)\n",
    "print(\"Number of columns:\", num_cols)\n"
   ]
  },
  {
   "cell_type": "code",
   "execution_count": 8,
   "id": "1afbda6c-7add-43e6-b059-117f71dd5bfe",
   "metadata": {},
   "outputs": [
    {
     "data": {
      "text/plain": [
       "DataFrame[summary: string, summons_number: string, plate_id: string, registration_state: string, plate_type: string, violation_code: string, vehicle_body_type: string, vehicle_make: string, issuing_agency: string, street_code1: string, street_code2: string, street_code3: string, vehicle_expiration_date: string, violation_location: string, violation_precinct: string, issuer_precinct: string, issuer_code: string, issuer_command: string, issuer_squad: string, violation_time: string, time_first_observed: string, violation_county: string, violation_in_front_of_or_opposite: string, house_number: string, street_name: string, intersecting_street: string, date_first_observed: string, law_section: string, sub_division: string, violation_legal_code: string, days_parking_in_effect: string, from_hours_in_effect: string, to_hours_in_effect: string, vehicle_color: string, unregistered_vehicle: string, vehicle_year: string, meter_number: string, feet_from_curb: string, violation_post_code: string, violation_description: string, no_standing_or_stopping_violation: string, hydrant_violation: string, double_parking_violation: string]"
      ]
     },
     "execution_count": 8,
     "metadata": {},
     "output_type": "execute_result"
    }
   ],
   "source": [
    "parking_df.describe()"
   ]
  },
  {
   "cell_type": "markdown",
   "id": "8731a660-2140-4cd1-b79a-f59431a8c7aa",
   "metadata": {},
   "source": [
    "### Counting the number of null values in each column"
   ]
  },
  {
   "cell_type": "code",
   "execution_count": 9,
   "id": "c0257176-6cea-45cb-afc5-56483843c321",
   "metadata": {},
   "outputs": [
    {
     "name": "stdout",
     "output_type": "stream",
     "text": [
      "Processing thread 1/4...\n"
     ]
    },
    {
     "name": "stderr",
     "output_type": "stream",
     "text": [
      "                                                                                \r"
     ]
    },
    {
     "name": "stdout",
     "output_type": "stream",
     "text": [
      "Processing thread 2/4...\n"
     ]
    },
    {
     "name": "stderr",
     "output_type": "stream",
     "text": [
      "                                                                                \r"
     ]
    },
    {
     "name": "stdout",
     "output_type": "stream",
     "text": [
      "Processing thread 3/4...\n"
     ]
    },
    {
     "name": "stderr",
     "output_type": "stream",
     "text": [
      "                                                                                \r"
     ]
    },
    {
     "name": "stdout",
     "output_type": "stream",
     "text": [
      "Processing thread 4/4...\n"
     ]
    },
    {
     "name": "stderr",
     "output_type": "stream",
     "text": [
      "                                                                                \r"
     ]
    }
   ],
   "source": [
    "from pyspark.sql.functions import col, count, when\n",
    "from functools import reduce\n",
    "\n",
    "# Specify the number of threads\n",
    "num_threads = 4\n",
    "\n",
    "# Split columns into groups\n",
    "columns_per_thread = [parking_df.columns[i::num_threads] for i in range(num_threads)]\n",
    "\n",
    "# Count nulls in parallel\n",
    "counts_per_thread = []\n",
    "\n",
    "for i, columns in enumerate(columns_per_thread):\n",
    "    print(f\"Processing thread {i + 1}/{num_threads}...\")\n",
    "\n",
    "    # Count nulls for the current set of columns\n",
    "    counts = parking_df.select([count(when(col(c).isNull(), c)).alias(c) for c in columns]).collect()\n",
    "\n",
    "    # Append the result to the list\n",
    "    counts_per_thread.append(counts)"
   ]
  },
  {
   "cell_type": "code",
   "execution_count": 10,
   "id": "b11c942d-0ef8-4b96-9583-06b4d189a17e",
   "metadata": {},
   "outputs": [
    {
     "data": {
      "text/plain": [
       "[Row(summons_number=0, issue_date=0, issuing_agency=0, vehicle_expiration_date=0, issuer_code=0, time_first_observed=10087137, street_name=1507, sub_division=1767, to_hours_in_effect=7338965, meter_number=9381186, no_standing_or_stopping_violation=10717482),\n",
       " Row(plate_id=1, violation_code=0, street_code1=0, violation_location=4923863, issuer_command=4918591, violation_county=102892, intersecting_street=4980009, violation_legal_code=5799044, vehicle_color=1015118, feet_from_curb=0, hydrant_violation=10717482),\n",
       " Row(registration_state=0, vehicle_body_type=28485, street_code2=0, violation_precinct=0, issuer_squad=5292644, violation_in_front_of_or_opposite=4973482, date_first_observed=0, days_parking_in_effect=5014718, unregistered_vehicle=10490502, violation_post_code=5519326, double_parking_violation=10717482),\n",
       " Row(plate_type=0, vehicle_make=10679, street_code3=0, issuer_precinct=0, violation_time=336, house_number=5015875, law_section=0, from_hours_in_effect=7338955, vehicle_year=0, violation_description=227812)]"
      ]
     },
     "execution_count": 10,
     "metadata": {},
     "output_type": "execute_result"
    }
   ],
   "source": [
    "total_counts = reduce(lambda x, y: x + y, counts_per_thread)\n",
    "\n",
    "total_counts"
   ]
  },
  {
   "cell_type": "markdown",
   "id": "ce8e61bb-2e8b-4cf9-ba08-15c82a88cea3",
   "metadata": {},
   "source": [
    "#### time_first_observed has a count of 10087137 null values, street_name has 1507, and so on."
   ]
  },
  {
   "attachments": {},
   "cell_type": "markdown",
   "id": "e03a13d2-dd1d-46a1-ab79-a025a1e423ed",
   "metadata": {},
   "source": [
    "### Question 1\n",
    "\n",
    "When are tickets most likely to be issued?"
   ]
  },
  {
   "cell_type": "code",
   "execution_count": 11,
   "id": "5dcd362c-fa8d-42b8-98e7-370095eabe63",
   "metadata": {},
   "outputs": [],
   "source": [
    "# Creating a view which will come handy in querying the dataset\n",
    "parking_df.createTempView(\"parking_view\")"
   ]
  },
  {
   "cell_type": "code",
   "execution_count": 12,
   "id": "bd4c3429-e76b-4ff7-8fc4-0d9cdf967484",
   "metadata": {},
   "outputs": [
    {
     "name": "stderr",
     "output_type": "stream",
     "text": [
      "[Stage 18:=====================================================>  (21 + 1) / 22]\r"
     ]
    },
    {
     "name": "stdout",
     "output_type": "stream",
     "text": [
      "+--------------+-----+\n",
      "|violation_time|count|\n",
      "+--------------+-----+\n",
      "|         0836A|20112|\n",
      "|         0839A|19531|\n",
      "|         0840A|19436|\n",
      "|         0838A|19433|\n",
      "|         0906A|19412|\n",
      "|         1139A|19255|\n",
      "|         1140A|19154|\n",
      "|         1141A|19135|\n",
      "|         0841A|18987|\n",
      "|         1142A|18936|\n",
      "|         1145A|18917|\n",
      "|         0837A|18893|\n",
      "|         0842A|18806|\n",
      "|         1143A|18738|\n",
      "|         0910A|18698|\n",
      "|         1138A|18679|\n",
      "|         0845A|18648|\n",
      "|         0908A|18648|\n",
      "|         0909A|18604|\n",
      "|         1136A|18541|\n",
      "|         1144A|18524|\n",
      "|         0907A|18464|\n",
      "|         0843A|18363|\n",
      "|         1146A|18324|\n",
      "|         1147A|18313|\n",
      "|         0844A|18185|\n",
      "|         1137A|17977|\n",
      "|         0846A|17964|\n",
      "|         1148A|17963|\n",
      "|         0912A|17929|\n",
      "+--------------+-----+\n",
      "only showing top 30 rows\n",
      "\n"
     ]
    },
    {
     "name": "stderr",
     "output_type": "stream",
     "text": [
      "                                                                                \r"
     ]
    }
   ],
   "source": [
    "# SQL query to count the occurrences of each unique time of violation. \n",
    "#It then groups the data by violation_time and orders the result set by the count of violations in descending order, \n",
    "#revealing the most common times for violations.\n",
    "\n",
    "violation_time = spark.sql('''SELECT `violation_time`, COUNT(*) AS count FROM parking_view \n",
    "            GROUP BY `violation_time` \n",
    "            ORDER BY count DESC''')\n",
    "\n",
    "violation_time.show(30)"
   ]
  },
  {
   "cell_type": "markdown",
   "id": "33a859d0-0edb-4811-9a7a-dc3e7155b90a",
   "metadata": {},
   "source": [
    "#### Observations:\n",
    "The highest count of violations issued at a specific time is 20112, which corresponds to \"0836A\", indicating that 8:36 AM has the highest number of violations issued among the top 30 times."
   ]
  },
  {
   "attachments": {},
   "cell_type": "markdown",
   "id": "fd8e4139-1733-4024-a8e0-7bba814dd481",
   "metadata": {},
   "source": [
    "### Question 2\n",
    "\n",
    "What are the most common years and types of cars to be ticketed?"
   ]
  },
  {
   "cell_type": "code",
   "execution_count": 13,
   "id": "4a058468-3f1a-43a8-b780-98e1cd482f14",
   "metadata": {},
   "outputs": [
    {
     "name": "stderr",
     "output_type": "stream",
     "text": [
      "[Stage 21:=====================================================>  (21 + 1) / 22]\r"
     ]
    },
    {
     "name": "stdout",
     "output_type": "stream",
     "text": [
      "+------------+------------+---------------+\n",
      "|vehicle_type|vehicle_year|violation_count|\n",
      "+------------+------------+---------------+\n",
      "|        SUBN|        2021|         468828|\n",
      "|        SUBN|        2022|         452377|\n",
      "|        SUBN|        2023|         447136|\n",
      "|        SUBN|        2019|         345021|\n",
      "|        SUBN|        2020|         343283|\n",
      "|        SUBN|        2018|         275702|\n",
      "|        SUBN|        2017|         226828|\n",
      "|        SUBN|        2016|         186233|\n",
      "|        SUBN|        2015|         180925|\n",
      "|        4DSD|        2017|         155318|\n",
      "|        4DSD|        2019|         152339|\n",
      "|        4DSD|        2018|         146010|\n",
      "|        SUBN|        2014|         142950|\n",
      "|        4DSD|        2020|         138040|\n",
      "|        4DSD|        2023|         134263|\n",
      "|        4DSD|        2021|         134002|\n",
      "|        4DSD|        2022|         131561|\n",
      "|        SUBN|        2013|         130515|\n",
      "|        4DSD|        2015|         129270|\n",
      "|        4DSD|        2016|         126511|\n",
      "|        SUBN|        2011|         117729|\n",
      "|        SUBN|        2012|         117674|\n",
      "|        4DSD|        2013|         108203|\n",
      "|        4DSD|        2014|         102357|\n",
      "|        SUBN|        2008|          93048|\n",
      "|        SUBN|        2010|          88975|\n",
      "|        4DSD|        2012|          87130|\n",
      "|        SUBN|        2007|          77786|\n",
      "|        4DSD|        2010|          74395|\n",
      "|         VAN|        2019|          73346|\n",
      "+------------+------------+---------------+\n",
      "only showing top 30 rows\n",
      "\n"
     ]
    },
    {
     "name": "stderr",
     "output_type": "stream",
     "text": [
      "                                                                                \r"
     ]
    }
   ],
   "source": [
    "# SQL query to count the number of occurrences for each unique combination of vehicle type and year. \n",
    "#It filters out null values and invalid years, then groups the data by vehicle type and year, \n",
    "#finally ordering the results by the count of violations in descending order.\n",
    "\n",
    "common_year_car = spark.sql('''SELECT `vehicle_body_type` AS `vehicle_type`, CAST(`vehicle_year` AS INT) AS `vehicle_year`, COUNT(*) AS `violation_count` FROM parking_view \n",
    "                        WHERE `vehicle_body_type` IS NOT NULL AND `vehicle_year` > 0 \n",
    "                        GROUP BY `vehicle_body_type`, `vehicle_year` \n",
    "                        ORDER BY `violation_count` DESC''')\n",
    "common_year_car.show(30)"
   ]
  },
  {
   "cell_type": "markdown",
   "id": "9961d0e3-218b-4e95-9963-259103d13292",
   "metadata": {},
   "source": [
    "#### Observations:\n",
    "The top combinations include \"SUBN\" vehicles from recent years such as 2021, 2022, and 2023, followed by \"4DSD\" vehicles from similar years. The counts decrease as the vehicle years go further back in time, suggesting that newer vehicles are more commonly ticketed."
   ]
  },
  {
   "attachments": {},
   "cell_type": "markdown",
   "id": "cc0e4ba4-45b9-45f8-83a3-e3d78709ea17",
   "metadata": {},
   "source": [
    "### Question 3\n",
    "\n",
    "Where are tickets most commonly issued?"
   ]
  },
  {
   "cell_type": "code",
   "execution_count": 14,
   "id": "ae2022c1-848e-49a4-a68b-a649a919af0c",
   "metadata": {},
   "outputs": [
    {
     "name": "stderr",
     "output_type": "stream",
     "text": [
      "[Stage 24:=====================================================>  (21 + 1) / 22]\r"
     ]
    },
    {
     "name": "stdout",
     "output_type": "stream",
     "text": [
      "+-----------------+------------------+\n",
      "|Number_of_tickets|Violation_Location|\n",
      "+-----------------+------------------+\n",
      "|           276203|                19|\n",
      "|           213205|               114|\n",
      "|           207636|                 6|\n",
      "|           189589|                13|\n",
      "|           178348|                14|\n",
      "|           153765|               109|\n",
      "|           148286|                 1|\n",
      "|           147809|                18|\n",
      "|           142074|                 9|\n",
      "|           135832|               115|\n",
      "|           116439|                61|\n",
      "|           115903|                66|\n",
      "|           115747|                20|\n",
      "|           109812|               112|\n",
      "|           107721|                70|\n",
      "|           104404|                84|\n",
      "|           104246|               103|\n",
      "|           103097|                52|\n",
      "|           102733|               108|\n",
      "|            98620|                46|\n",
      "|            94933|                10|\n",
      "|            88065|               110|\n",
      "|            84947|                90|\n",
      "|            84910|               102|\n",
      "|            83649|                43|\n",
      "|            83088|               104|\n",
      "|            81657|                24|\n",
      "|            80699|                62|\n",
      "|            76885|                44|\n",
      "|            76378|                17|\n",
      "+-----------------+------------------+\n",
      "only showing top 30 rows\n",
      "\n"
     ]
    },
    {
     "name": "stderr",
     "output_type": "stream",
     "text": [
      "                                                                                \r"
     ]
    }
   ],
   "source": [
    "#SQL query to counts the number of tickets issued at each unique violation location  from parking_view. \n",
    "#It filters out null values in the Violation_Location column, groups the data by location, \n",
    "#and orders the result set by the count of tickets issued at each location in descending order, highlighting the most common violation locations.\n",
    "\n",
    "common_loc = spark.sql('''SELECT COUNT(*) AS Number_of_tickets, `Violation_Location` FROM parking_view \n",
    "                    WHERE `Violation_Location` IS NOT NULL GROUP BY `Violation_Location` \n",
    "                    ORDER BY Number_of_tickets DESC''')\n",
    "common_loc.show(30)"
   ]
  },
  {
   "cell_type": "markdown",
   "id": "9227f7d9-8506-4e56-8ee4-7f34acc248cf",
   "metadata": {},
   "source": [
    "#### Observations:\n",
    "Locations with violation codes \"19\", \"114\", \"6\", \"13\", and \"14\" have the highest number of tickets issued, with counts ranging from 189,589 to 276,203 tickets."
   ]
  },
  {
   "attachments": {},
   "cell_type": "markdown",
   "id": "6b8a620a-09b3-43d3-927a-24d4f79d7793",
   "metadata": {},
   "source": [
    "### Question 4\n",
    "\n",
    "Which color of the vehicle is most likely to get a ticket?"
   ]
  },
  {
   "cell_type": "code",
   "execution_count": 15,
   "id": "8a318891-224e-43f9-b906-2ee8af0bb458",
   "metadata": {},
   "outputs": [
    {
     "name": "stderr",
     "output_type": "stream",
     "text": [
      "[Stage 27:=====================================================>  (21 + 1) / 22]\r"
     ]
    },
    {
     "name": "stdout",
     "output_type": "stream",
     "text": [
      "+-------------+-------+\n",
      "|Vehicle_Color|  count|\n",
      "+-------------+-------+\n",
      "|           GY|2086349|\n",
      "|           WH|1924604|\n",
      "|           BK|1821703|\n",
      "|         NULL|1015118|\n",
      "|           BL| 688918|\n",
      "|        WHITE| 610935|\n",
      "|        BLACK| 401993|\n",
      "|           RD| 393388|\n",
      "|         GREY| 303176|\n",
      "|         BLUE| 140721|\n",
      "|           GR| 134699|\n",
      "|        SILVE| 134375|\n",
      "|        BROWN| 129885|\n",
      "|          RED| 116436|\n",
      "|          BLK|  89406|\n",
      "|           TN|  70852|\n",
      "|           BR|  68615|\n",
      "|           YW|  65868|\n",
      "|          GRY|  64505|\n",
      "|          WHI|  54907|\n",
      "|           GL|  39134|\n",
      "|        OTHER|  33184|\n",
      "|           MR|  30204|\n",
      "|        GREEN|  26247|\n",
      "|           OR|  24657|\n",
      "|          SIL|  22166|\n",
      "|         GRAY|  21722|\n",
      "|          BLU|  20578|\n",
      "|        YELLO|  15621|\n",
      "|         LTGY|  12880|\n",
      "+-------------+-------+\n",
      "only showing top 30 rows\n",
      "\n"
     ]
    },
    {
     "name": "stderr",
     "output_type": "stream",
     "text": [
      "                                                                                \r"
     ]
    }
   ],
   "source": [
    "# SQl query to count the number of vehicles for each unique vehicle color from parking_view.\n",
    "#It groups the data by vehicle color and orders the result set by the count of vehicles in descending order\n",
    "\n",
    "vehicle_color = spark.sql('''SELECT `Vehicle_Color`, COUNT(*) AS count FROM parking_view \n",
    "                    GROUP BY `Vehicle_Color`\n",
    "                    ORDER BY count DESC''')\n",
    "vehicle_color.show(30)"
   ]
  },
  {
   "cell_type": "markdown",
   "id": "3bf46972-3cab-4263-a773-539a648e3ffd",
   "metadata": {},
   "source": [
    "#### Observations:\n",
    "The most common vehicle colors are \"GY\" (presumably gray), \"WH\" (white), and \"BK\" (black), with counts exceeding millions of vehicles each."
   ]
  },
  {
   "attachments": {},
   "cell_type": "markdown",
   "id": "1ca9a0dd-3e08-49ca-87d0-c42dc5f7f61a",
   "metadata": {},
   "source": [
    "### Question 5\n",
    "\n",
    "Given a Black vehicle parking illegally at 34510, 10030, 34050 (street codes). What is the probability that it will get an ticket?"
   ]
  },
  {
   "cell_type": "code",
   "execution_count": 16,
   "id": "585f9773-8298-475e-8c5e-33d2baf34c56",
   "metadata": {},
   "outputs": [],
   "source": [
    "def find_nearest_cluster(point, cluster_centers):\n",
    "    # euclidean distances between point and all cluster centers\n",
    "    distances = np.sqrt(np.sum((point - cluster_centers) ** 2, axis=1))\n",
    "\n",
    "    # nearest cluster\n",
    "    nearest_cluster_idx = np.argmin(distances)\n",
    "\n",
    "    return nearest_cluster_idx"
   ]
  },
  {
   "cell_type": "code",
   "execution_count": 17,
   "id": "dbe7ac79-5818-48ce-ac17-e32bcb3f1d91",
   "metadata": {},
   "outputs": [],
   "source": [
    "#Converting to float\n",
    "parking_df = parking_df.withColumn(\"Street_Code1\", col(\"Street_Code1\").cast(\"float\"))\n",
    "parking_df = parking_df.withColumn(\"Street_Code2\", col(\"Street_Code2\").cast(\"float\"))\n",
    "parking_df = parking_df.withColumn(\"Street_Code3\", col(\"Street_Code3\").cast(\"float\"))"
   ]
  },
  {
   "cell_type": "code",
   "execution_count": 18,
   "id": "d2e27a50-ee57-4dd8-9062-cd80ad3fbd39",
   "metadata": {},
   "outputs": [],
   "source": [
    "# preparing data for clustering by combining the street codes into a vector\n",
    "assembler = VectorAssembler(inputCols=[\"Street_Code1\", \"Street_Code2\", \"Street_Code3\"], outputCol=\"features\")\n",
    "kmeans_data = assembler.transform(parking_df.select(\"Street_Code1\", \"Street_Code2\", \"Street_Code3\", \"Vehicle_Color\"))"
   ]
  },
  {
   "cell_type": "code",
   "execution_count": 19,
   "id": "56fc33e7-78f7-4017-8d48-ae0fa0d6b7b0",
   "metadata": {},
   "outputs": [
    {
     "name": "stderr",
     "output_type": "stream",
     "text": [
      "24/04/13 00:42:37 WARN MemoryStore: Not enough space to cache rdd_104_4 in memory! (computed 44.2 MiB so far)\n",
      "24/04/13 00:42:37 WARN BlockManager: Persisting block rdd_104_4 to disk instead.\n",
      "24/04/13 00:42:37 WARN MemoryStore: Not enough space to cache rdd_104_6 in memory! (computed 44.2 MiB so far)\n",
      "24/04/13 00:42:37 WARN BlockManager: Persisting block rdd_104_6 to disk instead.\n",
      "24/04/13 00:42:37 WARN MemoryStore: Not enough space to cache rdd_104_7 in memory! (computed 44.2 MiB so far)\n",
      "24/04/13 00:42:37 WARN BlockManager: Persisting block rdd_104_7 to disk instead.\n",
      "24/04/13 00:42:39 WARN MemoryStore: Not enough space to cache rdd_104_6 in memory! (computed 44.2 MiB so far)\n",
      "24/04/13 00:42:39 WARN MemoryStore: Not enough space to cache rdd_104_4 in memory! (computed 44.2 MiB so far)\n",
      "24/04/13 00:42:40 WARN MemoryStore: Not enough space to cache rdd_104_8 in memory! (computed 29.5 MiB so far)\n",
      "24/04/13 00:42:40 WARN BlockManager: Persisting block rdd_104_8 to disk instead.\n",
      "24/04/13 00:42:41 WARN MemoryStore: Not enough space to cache rdd_104_9 in memory! (computed 29.5 MiB so far)\n",
      "24/04/13 00:42:41 WARN BlockManager: Persisting block rdd_104_9 to disk instead.\n",
      "24/04/13 00:42:42 WARN MemoryStore: Not enough space to cache rdd_104_11 in memory! (computed 29.5 MiB so far)\n",
      "24/04/13 00:42:42 WARN BlockManager: Persisting block rdd_104_11 to disk instead.\n",
      "24/04/13 00:42:42 WARN MemoryStore: Not enough space to cache rdd_104_10 in memory! (computed 29.5 MiB so far)\n",
      "24/04/13 00:42:42 WARN BlockManager: Persisting block rdd_104_10 to disk instead.\n",
      "24/04/13 00:42:44 WARN MemoryStore: Not enough space to cache rdd_104_9 in memory! (computed 2.5 MiB so far)\n",
      "24/04/13 00:42:44 WARN MemoryStore: Not enough space to cache rdd_104_12 in memory! (computed 13.1 MiB so far)\n",
      "24/04/13 00:42:44 WARN BlockManager: Persisting block rdd_104_12 to disk instead.\n",
      "24/04/13 00:42:44 WARN MemoryStore: Not enough space to cache rdd_104_13 in memory! (computed 1673.9 KiB so far)\n",
      "24/04/13 00:42:44 WARN BlockManager: Persisting block rdd_104_13 to disk instead.\n",
      "24/04/13 00:42:44 WARN MemoryStore: Not enough space to cache rdd_104_11 in memory! (computed 2.5 MiB so far)\n",
      "24/04/13 00:42:45 WARN MemoryStore: Not enough space to cache rdd_104_14 in memory! (computed 8.4 MiB so far)\n",
      "24/04/13 00:42:45 WARN BlockManager: Persisting block rdd_104_14 to disk instead.\n",
      "24/04/13 00:42:46 WARN MemoryStore: Not enough space to cache rdd_104_15 in memory! (computed 13.1 MiB so far)\n",
      "24/04/13 00:42:46 WARN BlockManager: Persisting block rdd_104_15 to disk instead.\n",
      "24/04/13 00:42:48 WARN MemoryStore: Not enough space to cache rdd_104_12 in memory! (computed 13.1 MiB so far)\n",
      "24/04/13 00:42:49 WARN MemoryStore: Not enough space to cache rdd_104_13 in memory! (computed 8.4 MiB so far)\n",
      "24/04/13 00:42:49 WARN MemoryStore: Not enough space to cache rdd_104_14 in memory! (computed 5.6 MiB so far)\n",
      "24/04/13 00:42:49 WARN MemoryStore: Not enough space to cache rdd_104_17 in memory! (computed 3.7 MiB so far)\n",
      "24/04/13 00:42:49 WARN BlockManager: Persisting block rdd_104_17 to disk instead.\n",
      "24/04/13 00:42:49 WARN MemoryStore: Failed to reserve initial memory threshold of 1024.0 KiB for computing block rdd_104_18 in memory.\n",
      "24/04/13 00:42:49 WARN MemoryStore: Not enough space to cache rdd_104_15 in memory! (computed 3.7 MiB so far)\n",
      "24/04/13 00:42:49 WARN MemoryStore: Not enough space to cache rdd_104_18 in memory! (computed 504.0 B so far)\n",
      "24/04/13 00:42:49 WARN BlockManager: Persisting block rdd_104_18 to disk instead.\n",
      "24/04/13 00:42:49 WARN MemoryStore: Not enough space to cache rdd_104_16 in memory! (computed 13.1 MiB so far)\n",
      "24/04/13 00:42:49 WARN BlockManager: Persisting block rdd_104_16 to disk instead.\n",
      "24/04/13 00:42:51 WARN MemoryStore: Not enough space to cache rdd_104_19 in memory! (computed 13.1 MiB so far)\n",
      "24/04/13 00:42:51 WARN BlockManager: Persisting block rdd_104_19 to disk instead.\n",
      "24/04/13 00:42:53 WARN MemoryStore: Not enough space to cache rdd_104_16 in memory! (computed 13.1 MiB so far)\n",
      "24/04/13 00:42:53 WARN MemoryStore: Not enough space to cache rdd_104_20 in memory! (computed 3.7 MiB so far)\n",
      "24/04/13 00:42:53 WARN BlockManager: Persisting block rdd_104_20 to disk instead.\n",
      "24/04/13 00:42:53 WARN MemoryStore: Not enough space to cache rdd_104_17 in memory! (computed 13.1 MiB so far)\n",
      "24/04/13 00:42:54 WARN MemoryStore: Not enough space to cache rdd_104_18 in memory! (computed 13.1 MiB so far)\n",
      "24/04/13 00:42:55 WARN MemoryStore: Not enough space to cache rdd_104_21 in memory! (computed 5.6 MiB so far)\n",
      "24/04/13 00:42:55 WARN BlockManager: Persisting block rdd_104_21 to disk instead.\n",
      "24/04/13 00:42:55 WARN MemoryStore: Not enough space to cache rdd_104_19 in memory! (computed 8.4 MiB so far)\n",
      "24/04/13 00:42:56 WARN MemoryStore: Not enough space to cache rdd_104_21 in memory! (computed 13.1 MiB so far)\n",
      "24/04/13 00:42:57 WARN MemoryStore: Not enough space to cache rdd_104_20 in memory! (computed 13.1 MiB so far)\n",
      "24/04/13 00:42:58 WARN MemoryStore: Not enough space to cache rdd_104_4 in memory! (computed 5.6 MiB so far)\n",
      "24/04/13 00:42:58 WARN MemoryStore: Not enough space to cache rdd_104_6 in memory! (computed 5.6 MiB so far)\n",
      "24/04/13 00:42:58 WARN MemoryStore: Not enough space to cache rdd_104_9 in memory! (computed 5.6 MiB so far)\n",
      "24/04/13 00:42:58 WARN MemoryStore: Not enough space to cache rdd_104_11 in memory! (computed 13.1 MiB so far)\n",
      "24/04/13 00:42:58 WARN MemoryStore: Not enough space to cache rdd_104_12 in memory! (computed 2.5 MiB so far)\n",
      "24/04/13 00:42:58 WARN MemoryStore: Not enough space to cache rdd_104_13 in memory! (computed 8.4 MiB so far)\n",
      "24/04/13 00:42:58 WARN MemoryStore: Not enough space to cache rdd_104_15 in memory! (computed 5.6 MiB so far)\n",
      "24/04/13 00:42:58 WARN MemoryStore: Not enough space to cache rdd_104_14 in memory! (computed 13.1 MiB so far)\n",
      "24/04/13 00:42:58 WARN MemoryStore: Not enough space to cache rdd_104_17 in memory! (computed 3.7 MiB so far)\n",
      "24/04/13 00:42:58 WARN MemoryStore: Not enough space to cache rdd_104_16 in memory! (computed 13.1 MiB so far)\n",
      "24/04/13 00:42:58 WARN MemoryStore: Not enough space to cache rdd_104_19 in memory! (computed 5.6 MiB so far)\n",
      "24/04/13 00:42:58 WARN MemoryStore: Not enough space to cache rdd_104_18 in memory! (computed 13.1 MiB so far)\n",
      "24/04/13 00:42:59 WARN MemoryStore: Not enough space to cache rdd_104_20 in memory! (computed 13.1 MiB so far)\n",
      "24/04/13 00:42:59 WARN MemoryStore: Not enough space to cache rdd_104_21 in memory! (computed 13.1 MiB so far)\n",
      "24/04/13 00:43:00 WARN MemoryStore: Not enough space to cache rdd_104_6 in memory! (computed 19.6 MiB so far)\n",
      "24/04/13 00:43:00 WARN MemoryStore: Not enough space to cache rdd_104_4 in memory! (computed 29.5 MiB so far)\n",
      "24/04/13 00:43:00 WARN MemoryStore: Not enough space to cache rdd_104_9 in memory! (computed 3.7 MiB so far)\n",
      "24/04/13 00:43:00 WARN MemoryStore: Failed to reserve initial memory threshold of 1024.0 KiB for computing block rdd_104_9 in memory.\n",
      "24/04/13 00:43:00 WARN MemoryStore: Not enough space to cache rdd_104_9 in memory! (computed 504.0 B so far)\n",
      "24/04/13 00:43:00 WARN MemoryStore: Not enough space to cache rdd_104_4 in memory! (computed 19.6 MiB so far)\n",
      "24/04/13 00:43:00 WARN MemoryStore: Not enough space to cache rdd_104_6 in memory! (computed 19.6 MiB so far)\n",
      "24/04/13 00:43:02 WARN MemoryStore: Not enough space to cache rdd_104_11 in memory! (computed 44.2 MiB so far)\n",
      "24/04/13 00:43:02 WARN MemoryStore: Not enough space to cache rdd_104_13 in memory! (computed 19.6 MiB so far)\n",
      "24/04/13 00:43:02 WARN MemoryStore: Not enough space to cache rdd_104_12 in memory! (computed 29.5 MiB so far)\n",
      "24/04/13 00:43:02 WARN MemoryStore: Failed to reserve initial memory threshold of 1024.0 KiB for computing block rdd_104_12 in memory.\n",
      "24/04/13 00:43:02 WARN MemoryStore: Not enough space to cache rdd_104_12 in memory! (computed 504.0 B so far)\n",
      "24/04/13 00:43:03 WARN MemoryStore: Not enough space to cache rdd_104_13 in memory! (computed 13.1 MiB so far)\n",
      "24/04/13 00:43:05 WARN MemoryStore: Not enough space to cache rdd_104_17 in memory! (computed 19.6 MiB so far)\n",
      "24/04/13 00:43:05 WARN MemoryStore: Not enough space to cache rdd_104_18 in memory! (computed 5.6 MiB so far)\n",
      "24/04/13 00:43:05 WARN MemoryStore: Failed to reserve initial memory threshold of 1024.0 KiB for computing block rdd_104_18 in memory.\n",
      "24/04/13 00:43:05 WARN MemoryStore: Not enough space to cache rdd_104_18 in memory! (computed 504.0 B so far)\n",
      "24/04/13 00:43:05 WARN MemoryStore: Not enough space to cache rdd_104_16 in memory! (computed 44.2 MiB so far)\n",
      "24/04/13 00:43:05 WARN MemoryStore: Not enough space to cache rdd_104_17 in memory! (computed 19.6 MiB so far)\n",
      "24/04/13 00:43:05 WARN MemoryStore: Not enough space to cache rdd_104_19 in memory! (computed 44.2 MiB so far)\n",
      "24/04/13 00:43:05 WARN MemoryStore: Not enough space to cache rdd_104_16 in memory! (computed 44.2 MiB so far)\n",
      "24/04/13 00:43:07 WARN MemoryStore: Not enough space to cache rdd_104_2 in memory! (computed 19.6 MiB so far)\n",
      "24/04/13 00:43:07 WARN MemoryStore: Not enough space to cache rdd_104_3 in memory! (computed 13.1 MiB so far)\n",
      "24/04/13 00:43:07 WARN MemoryStore: Not enough space to cache rdd_104_0 in memory! (computed 19.6 MiB so far)\n",
      "24/04/13 00:43:08 WARN MemoryStore: Not enough space to cache rdd_104_7 in memory! (computed 2.5 MiB so far)\n",
      "24/04/13 00:43:08 WARN MemoryStore: Not enough space to cache rdd_104_6 in memory! (computed 29.5 MiB so far)\n",
      "24/04/13 00:43:08 WARN MemoryStore: Not enough space to cache rdd_104_4 in memory! (computed 44.2 MiB so far)\n",
      "24/04/13 00:43:09 WARN MemoryStore: Not enough space to cache rdd_104_10 in memory! (computed 29.5 MiB so far)\n",
      "24/04/13 00:43:09 WARN MemoryStore: Not enough space to cache rdd_104_11 in memory! (computed 13.1 MiB so far)\n",
      "24/04/13 00:43:10 WARN MemoryStore: Not enough space to cache rdd_104_12 in memory! (computed 19.6 MiB so far)\n",
      "24/04/13 00:43:10 WARN MemoryStore: Not enough space to cache rdd_104_15 in memory! (computed 29.5 MiB so far)\n",
      "24/04/13 00:43:10 WARN MemoryStore: Not enough space to cache rdd_104_18 in memory! (computed 19.6 MiB so far)\n",
      "24/04/13 00:43:11 WARN MemoryStore: Not enough space to cache rdd_104_17 in memory! (computed 44.2 MiB so far)\n",
      "24/04/13 00:43:11 WARN MemoryStore: Not enough space to cache rdd_104_19 in memory! (computed 44.2 MiB so far)\n",
      "24/04/13 00:43:12 WARN MemoryStore: Not enough space to cache rdd_104_2 in memory! (computed 19.6 MiB so far)\n",
      "24/04/13 00:43:12 WARN MemoryStore: Not enough space to cache rdd_104_1 in memory! (computed 44.2 MiB so far)\n",
      "24/04/13 00:43:13 WARN MemoryStore: Not enough space to cache rdd_104_4 in memory! (computed 29.5 MiB so far)\n",
      "24/04/13 00:43:13 WARN MemoryStore: Not enough space to cache rdd_104_6 in memory! (computed 29.5 MiB so far)\n",
      "24/04/13 00:43:13 WARN MemoryStore: Not enough space to cache rdd_104_5 in memory! (computed 29.5 MiB so far)\n",
      "24/04/13 00:43:14 WARN MemoryStore: Not enough space to cache rdd_104_10 in memory! (computed 19.6 MiB so far)\n",
      "24/04/13 00:43:15 WARN MemoryStore: Not enough space to cache rdd_104_9 in memory! (computed 44.2 MiB so far)\n",
      "24/04/13 00:43:15 WARN MemoryStore: Not enough space to cache rdd_104_13 in memory! (computed 29.5 MiB so far)\n",
      "24/04/13 00:43:15 WARN MemoryStore: Not enough space to cache rdd_104_14 in memory! (computed 19.6 MiB so far)\n",
      "24/04/13 00:43:15 WARN MemoryStore: Not enough space to cache rdd_104_12 in memory! (computed 29.5 MiB so far)\n",
      "24/04/13 00:43:17 WARN MemoryStore: Not enough space to cache rdd_104_17 in memory! (computed 29.5 MiB so far)\n",
      "24/04/13 00:43:17 WARN MemoryStore: Not enough space to cache rdd_104_16 in memory! (computed 29.5 MiB so far)\n",
      "24/04/13 00:43:18 WARN MemoryStore: Not enough space to cache rdd_104_2 in memory! (computed 13.1 MiB so far)\n",
      "24/04/13 00:43:18 WARN MemoryStore: Not enough space to cache rdd_104_1 in memory! (computed 5.6 MiB so far)\n",
      "24/04/13 00:43:18 WARN MemoryStore: Not enough space to cache rdd_104_0 in memory! (computed 5.6 MiB so far)\n",
      "24/04/13 00:43:19 WARN MemoryStore: Not enough space to cache rdd_104_5 in memory! (computed 8.4 MiB so far)\n",
      "24/04/13 00:43:19 WARN MemoryStore: Not enough space to cache rdd_104_6 in memory! (computed 8.4 MiB so far)\n",
      "24/04/13 00:43:19 WARN MemoryStore: Not enough space to cache rdd_104_7 in memory! (computed 29.5 MiB so far)\n",
      "24/04/13 00:43:20 WARN MemoryStore: Not enough space to cache rdd_104_10 in memory! (computed 8.4 MiB so far)\n",
      "24/04/13 00:43:20 WARN MemoryStore: Not enough space to cache rdd_104_9 in memory! (computed 29.5 MiB so far)\n",
      "24/04/13 00:43:21 WARN MemoryStore: Not enough space to cache rdd_104_14 in memory! (computed 8.4 MiB so far)\n",
      "24/04/13 00:43:21 WARN MemoryStore: Not enough space to cache rdd_104_12 in memory! (computed 44.2 MiB so far)\n",
      "24/04/13 00:43:21 WARN MemoryStore: Not enough space to cache rdd_104_15 in memory! (computed 8.4 MiB so far)\n",
      "24/04/13 00:43:22 WARN MemoryStore: Not enough space to cache rdd_104_16 in memory! (computed 44.2 MiB so far)\n",
      "24/04/13 00:43:22 WARN MemoryStore: Not enough space to cache rdd_104_18 in memory! (computed 19.6 MiB so far)\n",
      "24/04/13 00:43:22 WARN MemoryStore: Not enough space to cache rdd_104_21 in memory! (computed 8.4 MiB so far)\n",
      "24/04/13 00:43:23 WARN MemoryStore: Not enough space to cache rdd_104_0 in memory! (computed 8.4 MiB so far)\n",
      "24/04/13 00:43:23 WARN MemoryStore: Not enough space to cache rdd_104_1 in memory! (computed 13.1 MiB so far)\n",
      "24/04/13 00:43:23 WARN MemoryStore: Not enough space to cache rdd_104_3 in memory! (computed 13.1 MiB so far)\n",
      "24/04/13 00:43:23 WARN MemoryStore: Not enough space to cache rdd_104_2 in memory! (computed 19.6 MiB so far)\n",
      "24/04/13 00:43:24 WARN MemoryStore: Not enough space to cache rdd_104_7 in memory! (computed 13.1 MiB so far)\n",
      "24/04/13 00:43:24 WARN MemoryStore: Not enough space to cache rdd_104_6 in memory! (computed 19.6 MiB so far)\n",
      "24/04/13 00:43:24 WARN MemoryStore: Not enough space to cache rdd_104_9 in memory! (computed 13.1 MiB so far)\n",
      "24/04/13 00:43:24 WARN MemoryStore: Not enough space to cache rdd_104_10 in memory! (computed 8.4 MiB so far)\n",
      "24/04/13 00:43:24 WARN MemoryStore: Not enough space to cache rdd_104_12 in memory! (computed 13.1 MiB so far)\n",
      "24/04/13 00:43:25 WARN MemoryStore: Not enough space to cache rdd_104_14 in memory! (computed 13.1 MiB so far)\n",
      "24/04/13 00:43:25 WARN MemoryStore: Not enough space to cache rdd_104_15 in memory! (computed 13.1 MiB so far)\n",
      "24/04/13 00:43:25 WARN MemoryStore: Not enough space to cache rdd_104_16 in memory! (computed 13.1 MiB so far)\n",
      "24/04/13 00:43:25 WARN MemoryStore: Not enough space to cache rdd_104_18 in memory! (computed 13.1 MiB so far)\n",
      "24/04/13 00:43:25 WARN MemoryStore: Not enough space to cache rdd_104_21 in memory! (computed 13.1 MiB so far)\n",
      "24/04/13 00:43:26 WARN MemoryStore: Not enough space to cache rdd_104_3 in memory! (computed 2.5 MiB so far)\n",
      "24/04/13 00:43:26 WARN MemoryStore: Not enough space to cache rdd_104_0 in memory! (computed 3.7 MiB so far)\n",
      "24/04/13 00:43:26 WARN MemoryStore: Not enough space to cache rdd_104_2 in memory! (computed 3.7 MiB so far)\n",
      "24/04/13 00:43:26 WARN MemoryStore: Not enough space to cache rdd_104_1 in memory! (computed 5.6 MiB so far)\n",
      "24/04/13 00:43:26 WARN MemoryStore: Not enough space to cache rdd_104_6 in memory! (computed 5.6 MiB so far)\n",
      "24/04/13 00:43:26 WARN MemoryStore: Not enough space to cache rdd_104_9 in memory! (computed 2.5 MiB so far)\n",
      "24/04/13 00:43:27 WARN MemoryStore: Not enough space to cache rdd_104_7 in memory! (computed 8.4 MiB so far)\n",
      "24/04/13 00:43:27 WARN MemoryStore: Not enough space to cache rdd_104_10 in memory! (computed 13.1 MiB so far)\n",
      "24/04/13 00:43:27 WARN MemoryStore: Not enough space to cache rdd_104_14 in memory! (computed 3.7 MiB so far)\n",
      "24/04/13 00:43:27 WARN MemoryStore: Not enough space to cache rdd_104_12 in memory! (computed 8.4 MiB so far)\n",
      "24/04/13 00:43:27 WARN MemoryStore: Not enough space to cache rdd_104_15 in memory! (computed 5.6 MiB so far)\n",
      "24/04/13 00:43:27 WARN MemoryStore: Not enough space to cache rdd_104_16 in memory! (computed 13.1 MiB so far)\n",
      "24/04/13 00:43:27 WARN MemoryStore: Not enough space to cache rdd_104_18 in memory! (computed 13.1 MiB so far)\n",
      "24/04/13 00:43:27 WARN MemoryStore: Not enough space to cache rdd_104_21 in memory! (computed 13.1 MiB so far)\n",
      "24/04/13 00:43:28 WARN MemoryStore: Not enough space to cache rdd_104_0 in memory! (computed 3.7 MiB so far)\n",
      "24/04/13 00:43:28 WARN MemoryStore: Not enough space to cache rdd_104_3 in memory! (computed 2.5 MiB so far)\n",
      "24/04/13 00:43:28 WARN MemoryStore: Not enough space to cache rdd_104_1 in memory! (computed 5.6 MiB so far)\n",
      "24/04/13 00:43:28 WARN MemoryStore: Not enough space to cache rdd_104_2 in memory! (computed 13.1 MiB so far)\n",
      "24/04/13 00:43:28 WARN MemoryStore: Not enough space to cache rdd_104_6 in memory! (computed 5.6 MiB so far)\n",
      "24/04/13 00:43:28 WARN MemoryStore: Failed to reserve initial memory threshold of 1024.0 KiB for computing block rdd_104_10 in memory.\n",
      "24/04/13 00:43:28 WARN MemoryStore: Not enough space to cache rdd_104_10 in memory! (computed 504.0 B so far)\n",
      "24/04/13 00:43:28 WARN MemoryStore: Not enough space to cache rdd_104_9 in memory! (computed 5.6 MiB so far)\n",
      "24/04/13 00:43:28 WARN MemoryStore: Not enough space to cache rdd_104_7 in memory! (computed 13.1 MiB so far)\n",
      "24/04/13 00:43:28 WARN MemoryStore: Not enough space to cache rdd_104_14 in memory! (computed 3.7 MiB so far)\n",
      "24/04/13 00:43:29 WARN MemoryStore: Not enough space to cache rdd_104_15 in memory! (computed 5.6 MiB so far)\n",
      "24/04/13 00:43:29 WARN MemoryStore: Not enough space to cache rdd_104_12 in memory! (computed 8.4 MiB so far)\n",
      "24/04/13 00:43:29 WARN MemoryStore: Not enough space to cache rdd_104_16 in memory! (computed 13.1 MiB so far)\n",
      "24/04/13 00:43:29 WARN MemoryStore: Not enough space to cache rdd_104_18 in memory! (computed 13.1 MiB so far)\n",
      "24/04/13 00:43:29 WARN MemoryStore: Not enough space to cache rdd_104_21 in memory! (computed 2.5 MiB so far)\n",
      "24/04/13 00:43:29 WARN MemoryStore: Not enough space to cache rdd_104_3 in memory! (computed 3.7 MiB so far)\n",
      "24/04/13 00:43:29 WARN MemoryStore: Not enough space to cache rdd_104_1 in memory! (computed 5.6 MiB so far)\n",
      "24/04/13 00:43:29 WARN MemoryStore: Not enough space to cache rdd_104_2 in memory! (computed 5.6 MiB so far)\n",
      "24/04/13 00:43:29 WARN MemoryStore: Not enough space to cache rdd_104_0 in memory! (computed 13.1 MiB so far)\n",
      "24/04/13 00:43:30 WARN MemoryStore: Not enough space to cache rdd_104_6 in memory! (computed 8.4 MiB so far)\n",
      "24/04/13 00:43:30 WARN MemoryStore: Not enough space to cache rdd_104_9 in memory! (computed 2.5 MiB so far)\n",
      "24/04/13 00:43:30 WARN MemoryStore: Not enough space to cache rdd_104_7 in memory! (computed 8.4 MiB so far)\n",
      "24/04/13 00:43:30 WARN MemoryStore: Not enough space to cache rdd_104_10 in memory! (computed 13.1 MiB so far)\n",
      "24/04/13 00:43:30 WARN MemoryStore: Not enough space to cache rdd_104_14 in memory! (computed 3.7 MiB so far)\n",
      "24/04/13 00:43:30 WARN MemoryStore: Not enough space to cache rdd_104_12 in memory! (computed 8.4 MiB so far)\n",
      "24/04/13 00:43:30 WARN MemoryStore: Not enough space to cache rdd_104_16 in memory! (computed 5.6 MiB so far)\n",
      "24/04/13 00:43:30 WARN MemoryStore: Not enough space to cache rdd_104_15 in memory! (computed 13.1 MiB so far)\n",
      "24/04/13 00:43:31 WARN MemoryStore: Not enough space to cache rdd_104_18 in memory! (computed 8.4 MiB so far)\n",
      "24/04/13 00:43:31 WARN MemoryStore: Not enough space to cache rdd_104_21 in memory! (computed 5.6 MiB so far)\n",
      "24/04/13 00:43:31 WARN MemoryStore: Not enough space to cache rdd_104_1 in memory! (computed 3.7 MiB so far)\n",
      "24/04/13 00:43:31 WARN MemoryStore: Not enough space to cache rdd_104_0 in memory! (computed 5.6 MiB so far)\n",
      "24/04/13 00:43:31 WARN MemoryStore: Not enough space to cache rdd_104_3 in memory! (computed 5.6 MiB so far)\n",
      "24/04/13 00:43:31 WARN MemoryStore: Not enough space to cache rdd_104_2 in memory! (computed 13.1 MiB so far)\n",
      "24/04/13 00:43:31 WARN MemoryStore: Not enough space to cache rdd_104_7 in memory! (computed 3.7 MiB so far)\n",
      "24/04/13 00:43:31 WARN MemoryStore: Not enough space to cache rdd_104_10 in memory! (computed 1673.9 KiB so far)\n",
      "24/04/13 00:43:31 WARN MemoryStore: Not enough space to cache rdd_104_9 in memory! (computed 5.6 MiB so far)\n",
      "24/04/13 00:43:31 WARN MemoryStore: Not enough space to cache rdd_104_6 in memory! (computed 13.1 MiB so far)\n",
      "24/04/13 00:43:32 WARN MemoryStore: Not enough space to cache rdd_104_14 in memory! (computed 5.6 MiB so far)\n",
      "24/04/13 00:43:32 WARN MemoryStore: Not enough space to cache rdd_104_12 in memory! (computed 5.6 MiB so far)\n",
      "24/04/13 00:43:32 WARN MemoryStore: Not enough space to cache rdd_104_16 in memory! (computed 1673.9 KiB so far)\n",
      "24/04/13 00:43:32 WARN MemoryStore: Not enough space to cache rdd_104_15 in memory! (computed 13.1 MiB so far)\n",
      "24/04/13 00:43:32 WARN MemoryStore: Not enough space to cache rdd_104_18 in memory! (computed 8.4 MiB so far)\n",
      "24/04/13 00:43:32 WARN MemoryStore: Not enough space to cache rdd_104_21 in memory! (computed 13.1 MiB so far)\n",
      "24/04/13 00:43:32 WARN MemoryStore: Not enough space to cache rdd_104_0 in memory! (computed 3.7 MiB so far)\n",
      "24/04/13 00:43:32 WARN MemoryStore: Not enough space to cache rdd_104_3 in memory! (computed 3.7 MiB so far)\n",
      "24/04/13 00:43:32 WARN MemoryStore: Not enough space to cache rdd_104_2 in memory! (computed 5.6 MiB so far)\n",
      "24/04/13 00:43:32 WARN MemoryStore: Not enough space to cache rdd_104_1 in memory! (computed 13.1 MiB so far)\n",
      "24/04/13 00:43:33 WARN MemoryStore: Not enough space to cache rdd_104_7 in memory! (computed 3.7 MiB so far)\n",
      "24/04/13 00:43:33 WARN MemoryStore: Not enough space to cache rdd_104_9 in memory! (computed 3.7 MiB so far)\n",
      "24/04/13 00:43:33 WARN MemoryStore: Not enough space to cache rdd_104_6 in memory! (computed 8.4 MiB so far)\n",
      "24/04/13 00:43:33 WARN MemoryStore: Not enough space to cache rdd_104_10 in memory! (computed 5.6 MiB so far)\n",
      "24/04/13 00:43:33 WARN MemoryStore: Not enough space to cache rdd_104_16 in memory! (computed 2.5 MiB so far)\n",
      "24/04/13 00:43:33 WARN MemoryStore: Not enough space to cache rdd_104_15 in memory! (computed 5.6 MiB so far)\n",
      "24/04/13 00:43:33 WARN MemoryStore: Not enough space to cache rdd_104_12 in memory! (computed 8.4 MiB so far)\n",
      "24/04/13 00:43:33 WARN MemoryStore: Not enough space to cache rdd_104_14 in memory! (computed 13.1 MiB so far)\n",
      "24/04/13 00:43:34 WARN MemoryStore: Not enough space to cache rdd_104_18 in memory! (computed 13.1 MiB so far)\n",
      "24/04/13 00:43:34 WARN MemoryStore: Not enough space to cache rdd_104_21 in memory! (computed 13.1 MiB so far)\n",
      "24/04/13 00:43:34 WARN MemoryStore: Not enough space to cache rdd_104_0 in memory! (computed 3.7 MiB so far)\n",
      "24/04/13 00:43:34 WARN MemoryStore: Not enough space to cache rdd_104_2 in memory! (computed 3.7 MiB so far)\n",
      "24/04/13 00:43:34 WARN MemoryStore: Not enough space to cache rdd_104_3 in memory! (computed 2.5 MiB so far)\n",
      "24/04/13 00:43:34 WARN MemoryStore: Not enough space to cache rdd_104_1 in memory! (computed 13.1 MiB so far)\n",
      "24/04/13 00:43:34 WARN MemoryStore: Not enough space to cache rdd_104_7 in memory! (computed 5.6 MiB so far)\n",
      "24/04/13 00:43:34 WARN MemoryStore: Not enough space to cache rdd_104_9 in memory! (computed 2.5 MiB so far)\n",
      "24/04/13 00:43:34 WARN MemoryStore: Not enough space to cache rdd_104_6 in memory! (computed 13.1 MiB so far)\n",
      "24/04/13 00:43:34 WARN MemoryStore: Not enough space to cache rdd_104_10 in memory! (computed 13.1 MiB so far)\n",
      "24/04/13 00:43:35 WARN MemoryStore: Not enough space to cache rdd_104_12 in memory! (computed 5.6 MiB so far)\n",
      "24/04/13 00:43:35 WARN MemoryStore: Not enough space to cache rdd_104_16 in memory! (computed 1673.9 KiB so far)\n",
      "24/04/13 00:43:35 WARN MemoryStore: Not enough space to cache rdd_104_15 in memory! (computed 5.6 MiB so far)\n",
      "24/04/13 00:43:35 WARN MemoryStore: Not enough space to cache rdd_104_14 in memory! (computed 8.4 MiB so far)\n",
      "24/04/13 00:43:35 WARN MemoryStore: Not enough space to cache rdd_104_18 in memory! (computed 8.4 MiB so far)\n",
      "24/04/13 00:43:35 WARN MemoryStore: Not enough space to cache rdd_104_21 in memory! (computed 13.1 MiB so far)\n",
      "24/04/13 00:43:36 WARN MemoryStore: Not enough space to cache rdd_104_2 in memory! (computed 3.7 MiB so far)\n",
      "24/04/13 00:43:36 WARN MemoryStore: Not enough space to cache rdd_104_0 in memory! (computed 3.7 MiB so far)\n",
      "24/04/13 00:43:36 WARN MemoryStore: Not enough space to cache rdd_104_1 in memory! (computed 5.6 MiB so far)\n",
      "24/04/13 00:43:36 WARN MemoryStore: Not enough space to cache rdd_104_3 in memory! (computed 13.1 MiB so far)\n",
      "24/04/13 00:43:36 WARN MemoryStore: Not enough space to cache rdd_104_6 in memory! (computed 3.7 MiB so far)\n",
      "24/04/13 00:43:36 WARN MemoryStore: Failed to reserve initial memory threshold of 1024.0 KiB for computing block rdd_104_10 in memory.\n",
      "24/04/13 00:43:36 WARN MemoryStore: Not enough space to cache rdd_104_10 in memory! (computed 504.0 B so far)\n",
      "24/04/13 00:43:36 WARN MemoryStore: Not enough space to cache rdd_104_7 in memory! (computed 8.4 MiB so far)\n",
      "24/04/13 00:43:36 WARN MemoryStore: Not enough space to cache rdd_104_9 in memory! (computed 13.1 MiB so far)\n",
      "24/04/13 00:43:36 WARN MemoryStore: Not enough space to cache rdd_104_12 in memory! (computed 2.5 MiB so far)\n",
      "24/04/13 00:43:36 WARN MemoryStore: Not enough space to cache rdd_104_14 in memory! (computed 5.6 MiB so far)\n",
      "24/04/13 00:43:36 WARN MemoryStore: Not enough space to cache rdd_104_16 in memory! (computed 1673.9 KiB so far)\n",
      "24/04/13 00:43:36 WARN MemoryStore: Not enough space to cache rdd_104_15 in memory! (computed 13.1 MiB so far)\n",
      "24/04/13 00:43:37 WARN MemoryStore: Not enough space to cache rdd_104_21 in memory! (computed 2.5 MiB so far)\n",
      "24/04/13 00:43:37 WARN MemoryStore: Not enough space to cache rdd_104_18 in memory! (computed 13.1 MiB so far)\n",
      "24/04/13 00:43:37 WARN MemoryStore: Not enough space to cache rdd_104_3 in memory! (computed 2.5 MiB so far)\n",
      "24/04/13 00:43:37 WARN MemoryStore: Not enough space to cache rdd_104_1 in memory! (computed 3.7 MiB so far)\n",
      "24/04/13 00:43:37 WARN MemoryStore: Not enough space to cache rdd_104_2 in memory! (computed 8.4 MiB so far)\n",
      "24/04/13 00:43:37 WARN MemoryStore: Not enough space to cache rdd_104_0 in memory! (computed 5.6 MiB so far)\n",
      "24/04/13 00:43:38 WARN MemoryStore: Not enough space to cache rdd_104_6 in memory! (computed 5.6 MiB so far)\n",
      "24/04/13 00:43:38 WARN MemoryStore: Failed to reserve initial memory threshold of 1024.0 KiB for computing block rdd_104_10 in memory.\n",
      "24/04/13 00:43:38 WARN MemoryStore: Not enough space to cache rdd_104_10 in memory! (computed 504.0 B so far)\n",
      "24/04/13 00:43:38 WARN MemoryStore: Not enough space to cache rdd_104_9 in memory! (computed 2.5 MiB so far)\n",
      "24/04/13 00:43:38 WARN MemoryStore: Not enough space to cache rdd_104_7 in memory! (computed 13.1 MiB so far)\n",
      "24/04/13 00:43:38 WARN MemoryStore: Not enough space to cache rdd_104_16 in memory! (computed 2.5 MiB so far)\n",
      "24/04/13 00:43:38 WARN MemoryStore: Not enough space to cache rdd_104_14 in memory! (computed 5.6 MiB so far)\n",
      "24/04/13 00:43:38 WARN MemoryStore: Not enough space to cache rdd_104_12 in memory! (computed 5.6 MiB so far)\n",
      "24/04/13 00:43:38 WARN MemoryStore: Not enough space to cache rdd_104_15 in memory! (computed 13.1 MiB so far)\n",
      "24/04/13 00:43:39 WARN MemoryStore: Not enough space to cache rdd_104_21 in memory! (computed 5.6 MiB so far)\n",
      "24/04/13 00:43:39 WARN MemoryStore: Not enough space to cache rdd_104_18 in memory! (computed 8.4 MiB so far)\n",
      "24/04/13 00:43:39 WARN MemoryStore: Not enough space to cache rdd_104_1 in memory! (computed 1673.9 KiB so far)\n",
      "24/04/13 00:43:39 WARN MemoryStore: Not enough space to cache rdd_104_3 in memory! (computed 2.5 MiB so far)\n",
      "24/04/13 00:43:39 WARN MemoryStore: Not enough space to cache rdd_104_2 in memory! (computed 5.6 MiB so far)\n",
      "24/04/13 00:43:39 WARN MemoryStore: Not enough space to cache rdd_104_0 in memory! (computed 13.1 MiB so far)\n",
      "24/04/13 00:43:39 WARN MemoryStore: Not enough space to cache rdd_104_9 in memory! (computed 2.5 MiB so far)\n",
      "24/04/13 00:43:39 WARN MemoryStore: Not enough space to cache rdd_104_6 in memory! (computed 5.6 MiB so far)\n",
      "24/04/13 00:43:39 WARN MemoryStore: Not enough space to cache rdd_104_10 in memory! (computed 1673.9 KiB so far)\n",
      "24/04/13 00:43:39 WARN MemoryStore: Not enough space to cache rdd_104_7 in memory! (computed 13.1 MiB so far)\n",
      "24/04/13 00:43:40 WARN MemoryStore: Not enough space to cache rdd_104_12 in memory! (computed 8.4 MiB so far)\n",
      "24/04/13 00:43:40 WARN MemoryStore: Not enough space to cache rdd_104_15 in memory! (computed 2.5 MiB so far)\n",
      "24/04/13 00:43:40 WARN MemoryStore: Not enough space to cache rdd_104_14 in memory! (computed 8.4 MiB so far)\n",
      "24/04/13 00:43:40 WARN MemoryStore: Not enough space to cache rdd_104_16 in memory! (computed 5.6 MiB so far)\n",
      "24/04/13 00:43:40 WARN MemoryStore: Not enough space to cache rdd_104_18 in memory! (computed 8.4 MiB so far)\n",
      "24/04/13 00:43:40 WARN MemoryStore: Not enough space to cache rdd_104_21 in memory! (computed 13.1 MiB so far)\n",
      "24/04/13 00:43:40 WARN MemoryStore: Not enough space to cache rdd_104_0 in memory! (computed 3.7 MiB so far)\n",
      "24/04/13 00:43:40 WARN MemoryStore: Not enough space to cache rdd_104_1 in memory! (computed 2.5 MiB so far)\n",
      "24/04/13 00:43:40 WARN MemoryStore: Not enough space to cache rdd_104_2 in memory! (computed 5.6 MiB so far)\n",
      "24/04/13 00:43:40 WARN MemoryStore: Not enough space to cache rdd_104_3 in memory! (computed 13.1 MiB so far)\n",
      "24/04/13 00:43:41 WARN MemoryStore: Failed to reserve initial memory threshold of 1024.0 KiB for computing block rdd_104_10 in memory.\n",
      "24/04/13 00:43:41 WARN MemoryStore: Not enough space to cache rdd_104_10 in memory! (computed 504.0 B so far)\n",
      "24/04/13 00:43:41 WARN MemoryStore: Not enough space to cache rdd_104_9 in memory! (computed 1673.9 KiB so far)\n",
      "24/04/13 00:43:41 WARN MemoryStore: Not enough space to cache rdd_104_7 in memory! (computed 5.6 MiB so far)\n",
      "24/04/13 00:43:41 WARN MemoryStore: Not enough space to cache rdd_104_6 in memory! (computed 8.4 MiB so far)\n",
      "24/04/13 00:43:41 WARN MemoryStore: Not enough space to cache rdd_104_14 in memory! (computed 5.6 MiB so far)\n",
      "24/04/13 00:43:41 WARN MemoryStore: Not enough space to cache rdd_104_15 in memory! (computed 3.7 MiB so far)\n",
      "24/04/13 00:43:41 WARN MemoryStore: Not enough space to cache rdd_104_16 in memory! (computed 5.6 MiB so far)\n",
      "24/04/13 00:43:41 WARN MemoryStore: Not enough space to cache rdd_104_12 in memory! (computed 13.1 MiB so far)\n",
      "24/04/13 00:43:42 WARN MemoryStore: Not enough space to cache rdd_104_18 in memory! (computed 5.6 MiB so far)\n",
      "24/04/13 00:43:42 WARN MemoryStore: Not enough space to cache rdd_104_21 in memory! (computed 8.4 MiB so far)\n",
      "24/04/13 00:43:42 WARN MemoryStore: Not enough space to cache rdd_104_3 in memory! (computed 3.7 MiB so far)\n",
      "24/04/13 00:43:42 WARN MemoryStore: Not enough space to cache rdd_104_2 in memory! (computed 3.7 MiB so far)\n",
      "24/04/13 00:43:42 WARN MemoryStore: Not enough space to cache rdd_104_1 in memory! (computed 5.6 MiB so far)\n",
      "24/04/13 00:43:42 WARN MemoryStore: Not enough space to cache rdd_104_0 in memory! (computed 13.1 MiB so far)\n",
      "24/04/13 00:43:42 WARN MemoryStore: Not enough space to cache rdd_104_6 in memory! (computed 5.6 MiB so far)\n",
      "24/04/13 00:43:42 WARN MemoryStore: Not enough space to cache rdd_104_7 in memory! (computed 5.6 MiB so far)\n",
      "24/04/13 00:43:42 WARN MemoryStore: Not enough space to cache rdd_104_10 in memory! (computed 5.6 MiB so far)\n",
      "24/04/13 00:43:42 WARN MemoryStore: Not enough space to cache rdd_104_9 in memory! (computed 13.1 MiB so far)\n",
      "24/04/13 00:43:43 WARN MemoryStore: Not enough space to cache rdd_104_12 in memory! (computed 8.4 MiB so far)\n",
      "24/04/13 00:43:43 WARN MemoryStore: Not enough space to cache rdd_104_15 in memory! (computed 3.7 MiB so far)\n",
      "24/04/13 00:43:43 WARN MemoryStore: Not enough space to cache rdd_104_14 in memory! (computed 5.6 MiB so far)\n",
      "24/04/13 00:43:43 WARN MemoryStore: Not enough space to cache rdd_104_16 in memory! (computed 13.1 MiB so far)\n",
      "24/04/13 00:43:43 WARN MemoryStore: Not enough space to cache rdd_104_18 in memory! (computed 13.1 MiB so far)\n",
      "24/04/13 00:43:43 WARN MemoryStore: Not enough space to cache rdd_104_21 in memory! (computed 2.5 MiB so far)\n",
      "24/04/13 00:43:43 WARN MemoryStore: Not enough space to cache rdd_104_2 in memory! (computed 3.7 MiB so far)\n",
      "24/04/13 00:43:43 WARN MemoryStore: Not enough space to cache rdd_104_3 in memory! (computed 3.7 MiB so far)\n",
      "24/04/13 00:43:43 WARN MemoryStore: Not enough space to cache rdd_104_1 in memory! (computed 5.6 MiB so far)\n",
      "24/04/13 00:43:43 WARN MemoryStore: Not enough space to cache rdd_104_0 in memory! (computed 13.1 MiB so far)\n",
      "24/04/13 00:43:44 WARN MemoryStore: Not enough space to cache rdd_104_6 in memory! (computed 5.6 MiB so far)\n",
      "24/04/13 00:43:44 WARN MemoryStore: Not enough space to cache rdd_104_7 in memory! (computed 5.6 MiB so far)\n",
      "24/04/13 00:43:44 WARN MemoryStore: Not enough space to cache rdd_104_10 in memory! (computed 5.6 MiB so far)\n",
      "24/04/13 00:43:44 WARN MemoryStore: Not enough space to cache rdd_104_9 in memory! (computed 13.1 MiB so far)\n",
      "24/04/13 00:43:44 WARN MemoryStore: Not enough space to cache rdd_104_14 in memory! (computed 2.5 MiB so far)\n",
      "24/04/13 00:43:44 WARN MemoryStore: Failed to reserve initial memory threshold of 1024.0 KiB for computing block rdd_104_15 in memory.\n",
      "24/04/13 00:43:44 WARN MemoryStore: Not enough space to cache rdd_104_15 in memory! (computed 504.0 B so far)\n",
      "24/04/13 00:43:44 WARN MemoryStore: Not enough space to cache rdd_104_12 in memory! (computed 13.1 MiB so far)\n",
      "24/04/13 00:43:44 WARN MemoryStore: Not enough space to cache rdd_104_16 in memory! (computed 13.1 MiB so far)\n",
      "24/04/13 00:43:45 WARN MemoryStore: Not enough space to cache rdd_104_21 in memory! (computed 2.5 MiB so far)\n",
      "24/04/13 00:43:45 WARN MemoryStore: Not enough space to cache rdd_104_18 in memory! (computed 13.1 MiB so far)\n",
      "24/04/13 00:43:45 WARN MemoryStore: Not enough space to cache rdd_104_3 in memory! (computed 2.5 MiB so far)\n",
      "24/04/13 00:43:45 WARN MemoryStore: Not enough space to cache rdd_104_1 in memory! (computed 3.7 MiB so far)\n",
      "24/04/13 00:43:45 WARN MemoryStore: Not enough space to cache rdd_104_2 in memory! (computed 5.6 MiB so far)\n",
      "24/04/13 00:43:45 WARN MemoryStore: Not enough space to cache rdd_104_0 in memory! (computed 13.1 MiB so far)\n",
      "24/04/13 00:43:45 WARN MemoryStore: Not enough space to cache rdd_104_7 in memory! (computed 3.7 MiB so far)\n",
      "24/04/13 00:43:45 WARN MemoryStore: Not enough space to cache rdd_104_6 in memory! (computed 8.4 MiB so far)\n",
      "24/04/13 00:43:45 WARN MemoryStore: Not enough space to cache rdd_104_10 in memory! (computed 1673.9 KiB so far)\n",
      "24/04/13 00:43:45 WARN MemoryStore: Not enough space to cache rdd_104_9 in memory! (computed 13.1 MiB so far)\n",
      "24/04/13 00:43:46 WARN MemoryStore: Not enough space to cache rdd_104_15 in memory! (computed 3.7 MiB so far)\n",
      "24/04/13 00:43:46 WARN MemoryStore: Not enough space to cache rdd_104_16 in memory! (computed 1673.9 KiB so far)\n",
      "24/04/13 00:43:46 WARN MemoryStore: Not enough space to cache rdd_104_14 in memory! (computed 8.4 MiB so far)\n",
      "24/04/13 00:43:46 WARN MemoryStore: Not enough space to cache rdd_104_12 in memory! (computed 5.6 MiB so far)\n",
      "24/04/13 00:43:46 WARN MemoryStore: Not enough space to cache rdd_104_18 in memory! (computed 8.4 MiB so far)\n",
      "24/04/13 00:43:46 WARN MemoryStore: Not enough space to cache rdd_104_21 in memory! (computed 13.1 MiB so far)\n",
      "                                                                                \r"
     ]
    }
   ],
   "source": [
    "# train the K-Means model with 3 clusters\n",
    "kmeans = KMeans(featuresCol=\"features\", k=3)\n",
    "model = kmeans.fit(kmeans_data.select(\"features\"))"
   ]
  },
  {
   "cell_type": "code",
   "execution_count": 20,
   "id": "6f2b855d-1629-4dfd-95ba-2b08f2857eb2",
   "metadata": {},
   "outputs": [
    {
     "name": "stdout",
     "output_type": "stream",
     "text": [
      "Showing the clustered data:\n",
      "+------------+------------+------------+-------------+--------------------+----------+\n",
      "|Street_Code1|Street_Code2|Street_Code3|Vehicle_Color|            features|prediction|\n",
      "+------------+------------+------------+-------------+--------------------+----------+\n",
      "|         0.0|         0.0|         0.0|         BLUE|           (3,[],[])|         1|\n",
      "|     17870.0|     25390.0|     32670.0|         GRAY|[17870.0,25390.0,...|         2|\n",
      "|     17870.0|     25390.0|     32670.0|         GRAY|[17870.0,25390.0,...|         2|\n",
      "|     12690.0|     41700.0|     61090.0|        WHITE|[12690.0,41700.0,...|         0|\n",
      "|     12690.0|     41700.0|     61090.0|        WHITE|[12690.0,41700.0,...|         0|\n",
      "|         0.0|         0.0|         0.0|           BK|           (3,[],[])|         1|\n",
      "|      8690.0|     21690.0|     21740.0|         NULL|[8690.0,21690.0,2...|         2|\n",
      "|         0.0|     61090.0|         0.0|          GRY|   [0.0,61090.0,0.0]|         2|\n",
      "|         0.0|         0.0|         0.0|          WHT|           (3,[],[])|         1|\n",
      "|         0.0|     40404.0|     40404.0|         BLUE|[0.0,40404.0,4040...|         2|\n",
      "|     59590.0|      9440.0|         0.0|         GREY|[59590.0,9440.0,0.0]|         2|\n",
      "|     37890.0|     51290.0|     51895.0|        WHITE|[37890.0,51290.0,...|         0|\n",
      "|     24090.0|     10290.0|     52490.0|          BLK|[24090.0,10290.0,...|         2|\n",
      "|     23840.0|     57790.0|     42120.0|          RED|[23840.0,57790.0,...|         0|\n",
      "|     28940.0|      9690.0|     57790.0|         GOLD|[28940.0,9690.0,5...|         2|\n",
      "|     21790.0|      5940.0|         0.0|         BLUE|[21790.0,5940.0,0.0]|         1|\n",
      "|     36400.0|     24240.0|     46090.0|         NULL|[36400.0,24240.0,...|         2|\n",
      "|      8440.0|     65490.0|     58590.0|          BLK|[8440.0,65490.0,5...|         0|\n",
      "|      6190.0|     23090.0|     23190.0|           WH|[6190.0,23090.0,2...|         2|\n",
      "|      8590.0|     53390.0|     65490.0|           RD|[8590.0,53390.0,6...|         0|\n",
      "+------------+------------+------------+-------------+--------------------+----------+\n",
      "only showing top 20 rows\n",
      "\n"
     ]
    }
   ],
   "source": [
    "# predict the cluster for the specified location\n",
    "prediction = model.transform(kmeans_data)\n",
    "print(\"Showing the clustered data:\")\n",
    "prediction.show()"
   ]
  },
  {
   "cell_type": "code",
   "execution_count": 21,
   "id": "13c93720-edac-4a6f-a851-e82ca95f7b3c",
   "metadata": {},
   "outputs": [
    {
     "name": "stdout",
     "output_type": "stream",
     "text": [
      "Probability of black vehicle getting ticket in different clusters:\n"
     ]
    },
    {
     "name": "stderr",
     "output_type": "stream",
     "text": [
      "[Stage 71:=====================================================>  (21 + 1) / 22]\r"
     ]
    },
    {
     "name": "stdout",
     "output_type": "stream",
     "text": [
      "+----------+-------+----------+-------------------+\n",
      "|prediction|  Count|Total_Cars|        probability|\n",
      "+----------+-------+----------+-------------------+\n",
      "|         0| 237841|   1318337|0.18040986485246185|\n",
      "|         1|1140955|   4808821|0.23726293825451186|\n",
      "|         2| 533813|   3575206| 0.1493097180973628|\n",
      "+----------+-------+----------+-------------------+\n",
      "\n"
     ]
    },
    {
     "name": "stderr",
     "output_type": "stream",
     "text": [
      "                                                                                \r"
     ]
    }
   ],
   "source": [
    "# different ways the color black is in data\n",
    "color = ['BLK', 'Black', 'BC', 'BLAC', 'BCK', 'BLK.', 'BK', 'BK.', 'BK/', 'B LAC'] \n",
    "prediction_black = prediction.groupBy('prediction').agg(count(when(col('Vehicle_Color').isin(color), 1)).alias('Count'),\\\n",
    "     count('Vehicle_Color').alias('Total_Cars')).orderBy('prediction')\n",
    "\n",
    "prediction_black = prediction_black.withColumn(\"probability\", col(\"Count\") / col(\"Total_Cars\"))\n",
    "print(\"Probability of black vehicle getting ticket in different clusters:\")\n",
    "prediction_black.show()"
   ]
  },
  {
   "cell_type": "markdown",
   "id": "1b870e1c-717b-4904-9983-23e7b6e8fad5",
   "metadata": {},
   "source": [
    "#### Observations:\n",
    "Cluster 2: Has the lowest probability of a black vehicle getting a ticket, at about 14.93%. This suggests that, within this cluster, black vehicles are ticketed less frequently relative to the total number of cars ticketed.\n",
    "Cluster 1: Shows a significantly higher probability of 23.72%, which is the highest among the three clusters. This could indicate that this cluster represents areas where black vehicles are more prone to getting tickets or are more heavily monitored.\n",
    "Cluster 0: Has a moderate probability of 18.04%, falling between the other two clusters in terms of ticketing probability for black vehicles."
   ]
  },
  {
   "cell_type": "code",
   "execution_count": 23,
   "id": "1982b23b-f94d-415d-95b1-1c72fc4451ca",
   "metadata": {},
   "outputs": [],
   "source": [
    "# find the cluster centers\n",
    "cluster_centers = np.array(model.clusterCenters()).astype(float)\n",
    "\n",
    "# find the cluster for the street codes\n",
    "nearest_cluser = find_nearest_cluster([34510, 10030, 34050], cluster_centers)"
   ]
  },
  {
   "cell_type": "code",
   "execution_count": 24,
   "id": "34fffce7-5aeb-491b-98f4-1cfa575d1125",
   "metadata": {},
   "outputs": [
    {
     "name": "stdout",
     "output_type": "stream",
     "text": [
      "Cluster for Street Code (34510, 10030, 34050) is: 2\n"
     ]
    }
   ],
   "source": [
    "print(\"Cluster for Street Code (34510, 10030, 34050) is:\", nearest_cluser)"
   ]
  },
  {
   "cell_type": "markdown",
   "id": "8d4db103-97a8-4432-8909-9f50cfdfc061",
   "metadata": {},
   "source": [
    "#### Observations:\n",
    "The result indicates that the closest cluster to the street codes (34510, 10030, 34050) is Cluster 2."
   ]
  },
  {
   "cell_type": "code",
   "execution_count": 25,
   "id": "513f8991-3722-43cc-937e-be71d897c960",
   "metadata": {},
   "outputs": [
    {
     "name": "stdout",
     "output_type": "stream",
     "text": [
      "Probability of Black vehicle parking illegally at 34510, 10030, 34050 getting ticket:\n"
     ]
    },
    {
     "name": "stderr",
     "output_type": "stream",
     "text": [
      "[Stage 74:=====================================================>  (21 + 1) / 22]\r"
     ]
    },
    {
     "name": "stdout",
     "output_type": "stream",
     "text": [
      "+----------+------+----------+------------------+\n",
      "|prediction| Count|Total_Cars|       probability|\n",
      "+----------+------+----------+------------------+\n",
      "|         2|533813|   3575206|0.1493097180973628|\n",
      "+----------+------+----------+------------------+\n",
      "\n"
     ]
    },
    {
     "name": "stderr",
     "output_type": "stream",
     "text": [
      "                                                                                \r"
     ]
    }
   ],
   "source": [
    "# filter for this current cluster index\n",
    "current_prediction = prediction_black.filter(col(\"prediction\") == int(nearest_cluser))\n",
    "\n",
    "print(\"Probability of Black vehicle parking illegally at 34510, 10030, 34050 getting ticket:\")\n",
    "current_prediction.show()"
   ]
  },
  {
   "cell_type": "markdown",
   "id": "c7275c03-bb0b-4b4c-b724-0647963282c9",
   "metadata": {},
   "source": [
    "#### Observations:\n",
    "With a ticketing probability of about 0.142490231472495 (or 14.25%), Cluster 2 shows a relatively lower risk for black vehicles getting ticketed compared to other clusters"
   ]
  },
  {
   "attachments": {},
   "cell_type": "markdown",
   "id": "813ab36d-9b08-4675-b49e-ce34b42f4304",
   "metadata": {},
   "source": [
    "### NBA"
   ]
  },
  {
   "attachments": {},
   "cell_type": "markdown",
   "id": "d9ebcb06-cf13-435b-b60f-8c13357cf903",
   "metadata": {},
   "source": [
    "### Question 1\n",
    "\n",
    "For each pair of the players (A, B), we define the fear sore of A when facing B is the hit rate, such that B is closet defender when A is shooting. Based on the fear sore, for each player, please find out who is his \"most unwanted defender\"."
   ]
  },
  {
   "cell_type": "code",
   "execution_count": 26,
   "id": "1de4654a-d2c2-4baa-a0d1-e2033ebe1c99",
   "metadata": {
    "scrolled": true
   },
   "outputs": [
    {
     "name": "stdout",
     "output_type": "stream",
     "text": [
      "root\n",
      " |-- GAME_ID: integer (nullable = true)\n",
      " |-- MATCHUP: string (nullable = true)\n",
      " |-- LOCATION: string (nullable = true)\n",
      " |-- W: string (nullable = true)\n",
      " |-- FINAL_MARGIN: integer (nullable = true)\n",
      " |-- SHOT_NUMBER: integer (nullable = true)\n",
      " |-- PERIOD: integer (nullable = true)\n",
      " |-- GAME_CLOCK: timestamp (nullable = true)\n",
      " |-- SHOT_CLOCK: double (nullable = true)\n",
      " |-- DRIBBLES: integer (nullable = true)\n",
      " |-- TOUCH_TIME: double (nullable = true)\n",
      " |-- SHOT_DIST: double (nullable = true)\n",
      " |-- PTS_TYPE: integer (nullable = true)\n",
      " |-- SHOT_RESULT: string (nullable = true)\n",
      " |-- CLOSEST_DEFENDER: string (nullable = true)\n",
      " |-- CLOSEST_DEFENDER_PLAYER_ID: integer (nullable = true)\n",
      " |-- CLOSE_DEF_DIST: double (nullable = true)\n",
      " |-- FGM: integer (nullable = true)\n",
      " |-- PTS: integer (nullable = true)\n",
      " |-- player_name: string (nullable = true)\n",
      " |-- player_id: integer (nullable = true)\n",
      "\n"
     ]
    }
   ],
   "source": [
    "file_path='file:////home/hadoop/assignment2/shot_logs/shot_logs.csv'\n",
    "\n",
    "nba_df = spark.read.csv(file_path, header=True, inferSchema=True)\n",
    "\n",
    "nba_df.printSchema()"
   ]
  },
  {
   "cell_type": "code",
   "execution_count": 27,
   "id": "82de8c6c-4282-4661-aecb-ebe22483bb29",
   "metadata": {
    "scrolled": true
   },
   "outputs": [
    {
     "name": "stdout",
     "output_type": "stream",
     "text": [
      "+--------+--------------------+--------+---+------------+-----------+------+-------------------+----------+--------+----------+---------+--------+-----------+-----------------+--------------------------+--------------+---+---+-------------+---------+\n",
      "| GAME_ID|             MATCHUP|LOCATION|  W|FINAL_MARGIN|SHOT_NUMBER|PERIOD|         GAME_CLOCK|SHOT_CLOCK|DRIBBLES|TOUCH_TIME|SHOT_DIST|PTS_TYPE|SHOT_RESULT| CLOSEST_DEFENDER|CLOSEST_DEFENDER_PLAYER_ID|CLOSE_DEF_DIST|FGM|PTS|  player_name|player_id|\n",
      "+--------+--------------------+--------+---+------------+-----------+------+-------------------+----------+--------+----------+---------+--------+-----------+-----------------+--------------------------+--------------+---+---+-------------+---------+\n",
      "|21400899|MAR 04, 2015 - CH...|       A|  W|          24|          1|     1|2024-04-13 01:09:00|      10.8|       2|       1.9|      7.7|       2|       made|   Anderson, Alan|                    101187|           1.3|  1|  2|brian roberts|   203148|\n",
      "|21400899|MAR 04, 2015 - CH...|       A|  W|          24|          2|     1|2024-04-13 00:14:00|       3.4|       0|       0.8|     28.2|       3|     missed|Bogdanovic, Bojan|                    202711|           6.1|  0|  0|brian roberts|   203148|\n",
      "|21400899|MAR 04, 2015 - CH...|       A|  W|          24|          3|     1|2024-04-13 00:00:00|      NULL|       3|       2.7|     10.1|       2|     missed|Bogdanovic, Bojan|                    202711|           0.9|  0|  0|brian roberts|   203148|\n",
      "|21400899|MAR 04, 2015 - CH...|       A|  W|          24|          4|     2|2024-04-13 11:47:00|      10.3|       2|       1.9|     17.2|       2|     missed|    Brown, Markel|                    203900|           3.4|  0|  0|brian roberts|   203148|\n",
      "|21400899|MAR 04, 2015 - CH...|       A|  W|          24|          5|     2|2024-04-13 10:34:00|      10.9|       2|       2.7|      3.7|       2|     missed|  Young, Thaddeus|                    201152|           1.1|  0|  0|brian roberts|   203148|\n",
      "|21400899|MAR 04, 2015 - CH...|       A|  W|          24|          6|     2|2024-04-13 08:15:00|       9.1|       2|       4.4|     18.4|       2|     missed|  Williams, Deron|                    101114|           2.6|  0|  0|brian roberts|   203148|\n",
      "|21400899|MAR 04, 2015 - CH...|       A|  W|          24|          7|     4|2024-04-13 10:15:00|      14.5|      11|       9.0|     20.7|       2|     missed|    Jack, Jarrett|                    101127|           6.1|  0|  0|brian roberts|   203148|\n",
      "|21400899|MAR 04, 2015 - CH...|       A|  W|          24|          8|     4|2024-04-13 08:00:00|       3.4|       3|       2.5|      3.5|       2|       made|   Plumlee, Mason|                    203486|           2.1|  1|  2|brian roberts|   203148|\n",
      "|21400899|MAR 04, 2015 - CH...|       A|  W|          24|          9|     4|2024-04-13 05:14:00|      12.4|       0|       0.8|     24.6|       3|     missed|   Morris, Darius|                    202721|           7.3|  0|  0|brian roberts|   203148|\n",
      "|21400890|MAR 03, 2015 - CH...|       H|  W|           1|          1|     2|2024-04-13 11:32:00|      17.4|       0|       1.1|     22.4|       3|     missed| Ellington, Wayne|                    201961|          19.8|  0|  0|brian roberts|   203148|\n",
      "|21400890|MAR 03, 2015 - CH...|       H|  W|           1|          2|     2|2024-04-13 06:30:00|      16.0|       8|       7.5|     24.5|       3|     missed|      Lin, Jeremy|                    202391|           4.7|  0|  0|brian roberts|   203148|\n",
      "|21400890|MAR 03, 2015 - CH...|       H|  W|           1|          3|     4|2024-04-13 11:32:00|      12.1|      14|      11.9|     14.6|       2|       made|      Lin, Jeremy|                    202391|           1.8|  1|  2|brian roberts|   203148|\n",
      "|21400890|MAR 03, 2015 - CH...|       H|  W|           1|          4|     4|2024-04-13 08:55:00|       4.3|       2|       2.9|      5.9|       2|       made|     Hill, Jordan|                    201941|           5.4|  1|  2|brian roberts|   203148|\n",
      "|21400882|MAR 01, 2015 - CH...|       A|  W|          15|          1|     4|2024-04-13 09:10:00|       4.4|       0|       0.8|     26.4|       3|     missed|    Green, Willie|                      2584|           4.4|  0|  0|brian roberts|   203148|\n",
      "|21400859|FEB 27, 2015 - CH...|       A|  L|          -8|          1|     1|2024-04-13 00:48:00|       6.8|       0|       0.5|     22.8|       3|     missed|    Smart, Marcus|                    203935|           5.3|  0|  0|brian roberts|   203148|\n",
      "|21400859|FEB 27, 2015 - CH...|       A|  L|          -8|          2|     2|2024-04-13 10:38:00|       6.4|       3|       2.7|     24.7|       3|       made|     Young, James|                    203923|           5.6|  1|  3|brian roberts|   203148|\n",
      "|21400859|FEB 27, 2015 - CH...|       A|  L|          -8|          3|     2|2024-04-13 08:27:00|      17.6|       6|       5.1|     25.0|       3|     missed|   Jerebko, Jonas|                    201973|           5.4|  0|  0|brian roberts|   203148|\n",
      "|21400859|FEB 27, 2015 - CH...|       A|  L|          -8|          4|     4|2024-04-13 10:55:00|       8.7|       1|       0.9|     25.6|       3|     missed|     Crowder, Jae|                    203109|           5.1|  0|  0|brian roberts|   203148|\n",
      "|21400859|FEB 27, 2015 - CH...|       A|  L|          -8|          5|     4|2024-04-13 10:29:00|      20.8|       0|       1.2|     24.2|       3|       made|   Thomas, Isaiah|                    202738|          11.1|  1|  3|brian roberts|   203148|\n",
      "|21400845|FEB 25, 2015 - CH...|       A|  W|          12|          1|     1|2024-04-13 03:35:00|      17.5|       2|       2.2|     25.4|       3|     missed|    Brooks, Aaron|                    201166|           3.5|  0|  0|brian roberts|   203148|\n",
      "+--------+--------------------+--------+---+------------+-----------+------+-------------------+----------+--------+----------+---------+--------+-----------+-----------------+--------------------------+--------------+---+---+-------------+---------+\n",
      "only showing top 20 rows\n",
      "\n"
     ]
    }
   ],
   "source": [
    "nba_df.show()"
   ]
  },
  {
   "cell_type": "code",
   "execution_count": 28,
   "id": "a1cf452c-20a3-42f0-9aed-3eafcf577a3e",
   "metadata": {},
   "outputs": [
    {
     "name": "stdout",
     "output_type": "stream",
     "text": [
      "Number of rows: 128069\n",
      "Number of columns: 21\n"
     ]
    }
   ],
   "source": [
    "num_rows = nba_df.count()\n",
    "print(\"Number of rows:\", num_rows)\n",
    "\n",
    "num_cols = len(nba_df.columns)\n",
    "print(\"Number of columns:\", num_cols)\n"
   ]
  },
  {
   "cell_type": "markdown",
   "id": "889628af-a32a-46e0-a38f-82a663f24f07",
   "metadata": {},
   "source": [
    "### Grouping the dataframe by player and defender & aggregating the shot statistics"
   ]
  },
  {
   "cell_type": "markdown",
   "id": "e14dd7a7-f4a9-49e9-bef9-06a2ee86b33d",
   "metadata": {},
   "source": [
    "### Question 1\n",
    "For each pair of the players (A, B), we define the fear sore of A when facing B is the hitrate, such that B is closet defender when A is shooting. Based on the fear sore, for each player, please find out who is his ”most unwanted defender”."
   ]
  },
  {
   "cell_type": "code",
   "execution_count": 29,
   "id": "aeee11b5-8f18-491e-b347-ac2eedc4d53d",
   "metadata": {},
   "outputs": [],
   "source": [
    "# Group by player and defender, compute shots made and total shots\n",
    "shots_player_defender = nba_df.groupBy(\"player_name\", \"CLOSEST_DEFENDER\").agg(\n",
    "    sum(when(col(\"SHOT_RESULT\") == \"made\", 1).otherwise(0)).alias(\"shot_result\"),\n",
    "    count(\"*\").alias(\"total_shots\")\n",
    ")"
   ]
  },
  {
   "cell_type": "code",
   "execution_count": 30,
   "id": "883fe43f-f379-4426-931e-787323db0bcc",
   "metadata": {},
   "outputs": [],
   "source": [
    "# Calculate hit rate\n",
    "shots_hitrate = shots_player_defender.withColumn(\"hit_rate\", col(\"shot_result\") / col(\"total_shots\"))\n",
    "shots_hitrate = shots_hitrate.dropDuplicates([\"player_name\", \"CLOSEST_DEFENDER\"])\n"
   ]
  },
  {
   "cell_type": "code",
   "execution_count": 31,
   "id": "80192b72-2971-4fbb-9622-965c7c5d5922",
   "metadata": {},
   "outputs": [
    {
     "name": "stdout",
     "output_type": "stream",
     "text": [
      "+------------+--------------------+--------+\n",
      "| player_name|    CLOSEST_DEFENDER|hit_rate|\n",
      "+------------+--------------------+--------+\n",
      "|aaron brooks|       Nurkic, Jusuf|     0.0|\n",
      "|aaron brooks|      Frye, Channing|     0.0|\n",
      "|aaron brooks|       Harris, Devin|     0.0|\n",
      "|aaron brooks|         Scola, Luis|     0.0|\n",
      "|aaron brooks|         Exum, Dante|     0.0|\n",
      "|aaron brooks|          Lawson, Ty|     0.0|\n",
      "|aaron brooks|     Crawford, Jamal|     0.0|\n",
      "|aaron brooks|      Fournier, Evan|     0.0|\n",
      "|aaron brooks|       O'Quinn, Kyle|     0.0|\n",
      "|aaron brooks|        Wear, Travis|     0.0|\n",
      "|aaron brooks|   Dos Santos, Atila|     0.0|\n",
      "|aaron brooks|        Hairston, PJ|     0.0|\n",
      "|aaron brooks|     Johnson, Wesley|     0.0|\n",
      "|aaron brooks|      Powell, Dwight|     0.0|\n",
      "|aaron brooks|      Rivers, Austin|     0.0|\n",
      "|aaron brooks|Antetokounmpo, Gi...|     0.0|\n",
      "|aaron brooks|     Splitter, Tiago|     0.0|\n",
      "|aaron brooks|      Johnson, Chris|     0.0|\n",
      "|aaron brooks|    Schroder, Dennis|     0.0|\n",
      "|aaron brooks|       McDaniels, KJ|     0.0|\n",
      "+------------+--------------------+--------+\n",
      "only showing top 20 rows\n",
      "\n"
     ]
    }
   ],
   "source": [
    "from pyspark.sql.functions import col, sum, count, when, min, mean, max\n",
    "\n",
    "# Find the most unwanted defender for each player\n",
    "min_hitrate = shots_hitrate.groupBy(\"player_name\").agg(min(\"hit_rate\").alias(\"min_hit_rate\"))\n",
    "most_unwanted_defender = shots_hitrate.join(min_hitrate, [\"player_name\"]) \\\n",
    "    .where(col(\"hit_rate\") == col(\"min_hit_rate\")) \\\n",
    "    .select(\"player_name\", \"CLOSEST_DEFENDER\", \"hit_rate\") \\\n",
    "    .orderBy(\"player_name\")\n",
    "\n",
    "most_unwanted_defender.show()"
   ]
  },
  {
   "cell_type": "code",
   "execution_count": 32,
   "id": "cdc6dd28-ac91-4f59-8c79-beea70efcc09",
   "metadata": {},
   "outputs": [
    {
     "name": "stdout",
     "output_type": "stream",
     "text": [
      "+----------------+-----------------+--------+-----------+\n",
      "|     player_name| CLOSEST_DEFENDER|hit_rate|total_shots|\n",
      "+----------------+-----------------+--------+-----------+\n",
      "|    aaron brooks|    Nurkic, Jusuf|     0.0|          5|\n",
      "|    aaron gordon|   Rivers, Austin|     0.0|          2|\n",
      "| al farouq aminu|   Johnson, James|     0.0|          3|\n",
      "|      al horford|      Diaw, Boris|     0.0|          4|\n",
      "|    al jefferson|Hardaway Jr., Tim|     0.0|          3|\n",
      "|   alan anderson|       Leuer, Jon|     0.0|          5|\n",
      "|     alan crabbe| Sefolosha, Thabo|     0.0|          3|\n",
      "|        alex len|  Knight, Brandon|     0.0|          4|\n",
      "|   alexis ajinca|     Meeks, Jodie|     0.0|          3|\n",
      "|      alonzo gee|     Korver, Kyle|     0.0|          3|\n",
      "|amare stoudemire|       Deng, Luol|     0.0|          3|\n",
      "|    amir johnson|       Tucker, PJ|     0.0|          3|\n",
      "|  andre drummond|    James, LeBron|     0.0|          5|\n",
      "|  andre iguodala|      Lowry, Kyle|     0.0|          3|\n",
      "|    andre miller|     Turner, Evan|     0.0|          2|\n",
      "|  andre roberson|   Ginobili, Manu|     0.0|          2|\n",
      "|    andrew bogut|     Ibaka, Serge|     0.0|          6|\n",
      "|  andrew wiggins|   Roberts, Brian|     0.0|          9|\n",
      "| anthony bennett|   Ajinca, Alexis|     0.0|          5|\n",
      "|   anthony davis|Mbah a Moute, Luc|     0.0|          5|\n",
      "+----------------+-----------------+--------+-----------+\n",
      "only showing top 20 rows\n",
      "\n"
     ]
    }
   ],
   "source": [
    "# Adding a tie-breaking condition based on the total shots attempted\n",
    "from pyspark.sql.functions import first\n",
    "\n",
    "most_unwanted_defender = (\n",
    "    shots_hitrate\n",
    "    .join(min_hitrate, [\"player_name\"])\n",
    "    .where(col(\"hit_rate\") == col(\"min_hit_rate\"))\n",
    "    .groupBy(\"player_name\")\n",
    "    .agg(first(\"CLOSEST_DEFENDER\").alias(\"CLOSEST_DEFENDER\"), \n",
    "         first(\"hit_rate\").alias(\"hit_rate\"), \n",
    "         max(\"total_shots\").alias(\"total_shots\"))\n",
    "    .orderBy(\"player_name\")\n",
    ")\n",
    "\n",
    "most_unwanted_defender.show()"
   ]
  },
  {
   "cell_type": "markdown",
   "id": "f2f7680a-4838-4cd7-8ab1-026f096440af",
   "metadata": {},
   "source": [
    "#### Observations:\n",
    "All listed defenders have a hit_rate of 0.0. This indicates that for these specific matchups, the offensive player failed to make any shots. \n",
    "The number of shot attempts (total_shots) against each defender varies. For example, Andrew Wiggins attempted 9 shots against Brian Roberts without success, which suggests a significant defensive impact by Roberts during those instances.\n",
    "On the other hand, some players, like Andre Miller and Andre Roberson, had only 2 attempts against their respective defenders."
   ]
  },
  {
   "cell_type": "markdown",
   "id": "97f05146-cbed-4613-a250-c772567c19a6",
   "metadata": {},
   "source": [
    "### Question 2\n",
    "\n",
    "For each player, we define the comfortable zone of shooting is a matrix of, {SHOT DIST, CLOSE DEF DIST, SHOT CLOCK}\n",
    "Please develop a Spark-based algorithm to classify each player’s records into 4 comfortable zones. Considering the hit rate, which zone is the best for James Harden, Chris Paul, Stephen Curry, and Lebron James. "
   ]
  },
  {
   "cell_type": "code",
   "execution_count": 33,
   "id": "d48911f5-539c-4b9a-9f1f-86a1c47e0576",
   "metadata": {},
   "outputs": [],
   "source": [
    "# Prepare data for clustering\n",
    "nba_data = nba_df.na.drop()\n",
    "nba_data = nba_data.withColumn('SHOT_RESULT', when(col('SHOT_RESULT') == 'made', 1).otherwise(0))\n",
    "nba_data = nba_data.withColumn(\"SHOT_DIST\", col(\"SHOT_DIST\").cast(\"float\"))\n",
    "nba_data = nba_data.withColumn(\"CLOSE_DEF_DIST\", col(\"CLOSE_DEF_DIST\").cast(\"float\"))\n",
    "nba_data = nba_data.withColumn(\"SHOT_CLOCK\", col(\"SHOT_CLOCK\").cast(\"float\"))"
   ]
  },
  {
   "cell_type": "code",
   "execution_count": 34,
   "id": "7d561c7b-169f-452b-a0e6-5677d96085a5",
   "metadata": {},
   "outputs": [],
   "source": [
    "assembler = VectorAssembler(inputCols=[\"SHOT_DIST\", \"CLOSE_DEF_DIST\", \"SHOT_CLOCK\"], outputCol=\"features\")\n",
    "kmeans_nba_data = assembler.transform(nba_data).select('player_name', 'features', 'SHOT_RESULT')\n"
   ]
  },
  {
   "cell_type": "code",
   "execution_count": 35,
   "id": "bb2af3eb-2d63-4129-afa8-6aa56f685ec4",
   "metadata": {},
   "outputs": [],
   "source": [
    "# K-means clustering\n",
    "kmeans = KMeans(featuresCol=\"features\", k=4)\n",
    "model = kmeans.fit(kmeans_nba_data)"
   ]
  },
  {
   "cell_type": "code",
   "execution_count": 36,
   "id": "1fabefb8-4f21-4df6-8565-5d9d3154388e",
   "metadata": {},
   "outputs": [],
   "source": [
    "# Filter for specific players and make predictions\n",
    "players = ['james harden', 'chris paul', 'stephen curry', 'lebron james']\n",
    "kmeans_nba_data = kmeans_nba_data.filter(col('player_name').isin(players))\n",
    "predictions = model.transform(kmeans_nba_data)"
   ]
  },
  {
   "cell_type": "code",
   "execution_count": 39,
   "id": "4944e4c2-22f4-4d5e-84a9-b214563734aa",
   "metadata": {},
   "outputs": [],
   "source": [
    "predictions = predictions.select('player_name', 'prediction', 'SHOT_RESULT')"
   ]
  },
  {
   "cell_type": "code",
   "execution_count": 40,
   "id": "3b162333-7a4e-4e4b-9987-4f8fe445c081",
   "metadata": {},
   "outputs": [
    {
     "name": "stdout",
     "output_type": "stream",
     "text": [
      "+-------------+-----------------+------------------+\n",
      "|  player_name|prediction (zone)|     Best_zone_res|\n",
      "+-------------+-----------------+------------------+\n",
      "|   chris paul|                2|0.5531914893617021|\n",
      "| james harden|                0|0.5604395604395604|\n",
      "| lebron james|                0|0.6613545816733067|\n",
      "|stephen curry|                0|0.6350710900473934|\n",
      "+-------------+-----------------+------------------+\n",
      "\n"
     ]
    }
   ],
   "source": [
    "# Calculate average scoring probability per zone\n",
    "player_predictions = predictions.groupBy(\"player_name\", \"prediction\").agg(mean(\"SHOT_RESULT\").alias(\"Best_zone_res\"))\n",
    "best_zone = player_predictions.withColumn('best_avg', max('Best_zone_res').over(Window.partitionBy(\"player_name\"))) \\\n",
    "    .filter(col('Best_zone_res') == col('best_avg')) \\\n",
    "    .select(col(\"player_name\"), col(\"prediction\").alias(\"prediction (zone)\"), col(\"Best_zone_res\"))\n",
    "\n",
    "best_zone.show()"
   ]
  },
  {
   "cell_type": "markdown",
   "id": "6d417cfc-cd80-4b20-8124-990715936c5c",
   "metadata": {},
   "source": [
    "#### Observations:\n",
    "Each player has a specific zone that yields the highest scoring probability, with LeBron James showing the highest efficiency at approximately 0.661 in his optimal zone.\n",
    "Zones are identified by prediction numbers, where zone 0 is notably effective for James Harden, LeBron James, and Stephen Curry."
   ]
  },
  {
   "cell_type": "code",
   "execution_count": 41,
   "id": "a83c596f-76fb-4e75-b8bb-56f61b7f643b",
   "metadata": {},
   "outputs": [],
   "source": [
    "# Stop the SparkSession\n",
    "spark.stop()"
   ]
  },
  {
   "cell_type": "code",
   "execution_count": null,
   "id": "ac9e05c6-fd92-4498-b0ae-30c04da99270",
   "metadata": {},
   "outputs": [],
   "source": []
  }
 ],
 "metadata": {
  "kernelspec": {
   "display_name": "Python 3 (ipykernel)",
   "language": "python",
   "name": "python3"
  },
  "language_info": {
   "codemirror_mode": {
    "name": "ipython",
    "version": 3
   },
   "file_extension": ".py",
   "mimetype": "text/x-python",
   "name": "python",
   "nbconvert_exporter": "python",
   "pygments_lexer": "ipython3",
   "version": "3.10.12"
  }
 },
 "nbformat": 4,
 "nbformat_minor": 5
}
